{
  "nbformat": 4,
  "nbformat_minor": 0,
  "metadata": {
    "colab": {
      "provenance": [],
      "gpuType": "T4"
    },
    "kernelspec": {
      "name": "python3",
      "display_name": "Python 3"
    },
    "language_info": {
      "name": "python"
    },
    "accelerator": "GPU"
  },
  "cells": [
    {
      "cell_type": "code",
      "execution_count": null,
      "metadata": {
        "id": "MascjUhI6mOt"
      },
      "outputs": [],
      "source": []
    },
    {
      "cell_type": "markdown",
      "source": [
        "###Part 1: Understanding Weight Initializatioo"
      ],
      "metadata": {
        "id": "ynHAtaPQ6ruD"
      }
    },
    {
      "cell_type": "markdown",
      "source": [
        "1. Explain the importance of weight initialization in artificial neural networks. Why is it necessary to initialize\n",
        "the weights carefully."
      ],
      "metadata": {
        "id": "yWYuOaBt67W8"
      }
    },
    {
      "cell_type": "markdown",
      "source": [
        "Ans = Weight initialization is a critical aspect of training artificial neural networks (ANNs) and has a significant impact on the network's convergence speed, training stability, and overall performance and it is also important for the following reaasons:\n",
        "\n",
        "1. **Avoiding Vanishing and Exploding Gradients**:\n",
        "   - When weights are initialized with very small values, it can lead to vanishing gradients during training. This means that the gradients of the loss function with respect to the weights become extremely small, causing slow convergence and making it challenging for the network to learn.\n",
        "   - Conversely, initializing weights with very large values can lead to exploding gradients, where gradients become extremely large, causing numerical instability during training.\n",
        "\n",
        "2. **Accelerating Convergence**:\n",
        "   - Proper weight initialization can accelerate the convergence of neural networks. When weights are initialized close to the optimal values, the network requires fewer iterations to reach a good solution.\n",
        "   - Faster convergence reduces training time and computational resources, making the training process more efficient.\n",
        "\n",
        "3. **Breaking Symmetry**:\n",
        "   - In neural networks with multiple neurons in a layer, if all the weights are initialized to the same value, neurons in that layer will have symmetric gradients during backpropagation. As a result, they will update their weights in the same way during training.\n",
        "   - By initializing weights differently, we can break this symmetry, allowing neurons to learn distinct features from the input data.\n",
        "\n",
        "4. **Improving Generalization**:\n",
        "   - Proper weight initialization can lead to better generalization, where the network performs well on unseen data. When weights are initialized appropriately, the network is more likely to converge to a good solution that generalizes to different examples.\n",
        "\n",
        "### Some Weight Initialization Techniques:\n",
        "- **Random Initialization**: Initializing weights with small random values from a normal or uniform distribution is a common practice. This helps break symmetry and avoids the vanishing gradient problem. Examples include using tf.keras.initializers.RandomNormal or tf.keras.initializers.RandomUniform in TensorFlow.\n",
        "\n",
        "- **Xavier/Glorot Initialization**: This method sets weights based on the number of input and output units in the layer. It helps balance the variance of activations and gradients throughout the network. Xavier initialization is often used for sigmoid and hyperbolic tangent (tanh) activation functions.\n",
        "\n",
        "- **He Initialization**: This method is designed for ReLU (Rectified Linear Unit) activation functions. It initializes weights with a higher variance to prevent the vanishing gradient problem associated with ReLU."
      ],
      "metadata": {
        "id": "dx6AraHN7bba"
      }
    },
    {
      "cell_type": "markdown",
      "source": [
        "### Q2. Describe the challenges associated with improper weight initialization. How do these issues affect model training and convergence ?"
      ],
      "metadata": {
        "id": "8DwkTNzz7dgx"
      }
    },
    {
      "cell_type": "code",
      "source": [],
      "metadata": {
        "id": "nGqeiC7m7jcc"
      },
      "execution_count": null,
      "outputs": []
    },
    {
      "cell_type": "markdown",
      "source": [
        "Ans = Improper weight initialization in artificial neural networks can lead to various challenges that significantly affect model training and convergence. Some of the key challenges associated with improper weight initialization are:\n",
        "\n",
        "1. **Vanishing Gradients**:\n",
        "   - **Issue**: When weights are initialized with very small values (e.g., close to zero), it can lead to vanishing gradients. This means that the gradients of the loss function with respect to the weights become extremely small during backpropagation.\n",
        "   - **Effect**: Small gradients slow down weight updates, making convergence very slow. The network struggles to learn, and training may get stuck in a suboptimal solution.\n",
        "\n",
        "2. **Exploding Gradients**:\n",
        "   - **Issue**: On the opposite end, initializing weights with very large values can result in exploding gradients. Gradients become extremely large during backpropagation.\n",
        "   - **Effect**: Large gradients can lead to numerical instability during training. This may cause weight updates to become too large and lead to divergence, where the loss increases instead of decreasing.\n",
        "\n",
        "3. **Symmetry**:\n",
        "   - **Issue**: If all the weights in a layer are initialized with the same value, neurons in that layer will have symmetric gradients during backpropagation.\n",
        "   - **Effect**: Neurons learn the same features and exhibit the same behavior, limiting the network's representational capacity. Breaking this symmetry is essential for the network to learn diverse features.\n",
        "\n",
        "4. **Slow Convergence**:\n",
        "   - **Issue**: Improper weight initialization can lead to slow convergence, where the network requires many epochs to reach a reasonable solution.\n",
        "   - **Effect**: Training time increases significantly, and in some cases, it may become impractical to train deep networks.\n",
        "\n",
        "5. **Suboptimal Solutions**:\n",
        "   - **Issue**: If weights are not initialized close to an appropriate range, the network may converge to suboptimal solutions with higher training error.\n",
        "   - **Effect**: The network may not achieve its full potential in terms of performance, leading to poor generalization on unseen data.\n",
        "\n",
        "6. **Dying Neurons**:\n",
        "   - **Issue**: If weights are initialized in a way that neurons receive inputs that result in zero activations, some neurons may become \"dead\" or inactive during training.\n",
        "   - **Effect**: These neurons never contribute to the learning process and do not adapt, reducing the network's capacity.\n",
        "\n",
        "To mitigate these challenges and facilitate successful training, it's crucial to select an appropriate weight initialization strategy based on the activation functions used in the network. Common initialization techniques, such as Xavier/Glorot initialization for sigmoid and tanh activations or He initialization for ReLU activations, are designed to address these issues by setting the initial weights to values that help balance the gradients and activations during training. Proper weight initialization not only accelerates convergence but also ensures that the network can effectively learn and represent complex patterns in the data, leading to improved model performance and better generalization to unseen examples."
      ],
      "metadata": {
        "id": "_Q6PebQn7kMB"
      }
    },
    {
      "cell_type": "code",
      "source": [],
      "metadata": {
        "id": "bcXUWJVr7o80"
      },
      "execution_count": null,
      "outputs": []
    },
    {
      "cell_type": "markdown",
      "source": [
        "### Q3. Discuss the concept of variance and how it relates to weight initialization. Why is it crucial to consider the variance of weights during initialization?"
      ],
      "metadata": {
        "id": "sqbcWFrJ7p9J"
      }
    },
    {
      "cell_type": "code",
      "source": [],
      "metadata": {
        "id": "JsOcNBje7sos"
      },
      "execution_count": null,
      "outputs": []
    },
    {
      "cell_type": "markdown",
      "source": [
        "Variance, in the context of weight initialization for artificial neural networks, is a statistical measure that quantifies the spread or dispersion of values within a set of weights in a neural network layer. It plays a crucial role in the training and behavior of neural networks, and considering the variance of weights during initialization is of paramount importance.\n",
        "\n",
        "### Reasons why variance is Important:\n",
        "\n",
        "1. **Impact on Activation Scale**:\n",
        "   - The variance of weights directly affects the scale of activations in a neural network layer. It determines how spread out or concentrated the activation values will be.\n",
        "   - High variance in weights can result in large activations, while low variance can lead to small activations.\n",
        "   - Activation values that are too small may cause vanishing gradients, impeding learning. Conversely, large activation values may lead to exploding gradients, causing training instability.\n",
        "\n",
        "2. **Balancing Gradients**:\n",
        "   - Proper weight initialization aims to balance the variance of activations and gradients throughout the network.\n",
        "   - An ideal weight initialization method sets the initial weights such that the gradients during backpropagation neither vanish (become too small) nor explode (become too large).\n",
        "   - Balancing gradients through appropriate weight variance helps ensure stable and efficient training.\n",
        "\n",
        "3. **Speed of Convergence**:\n",
        "   - The variance of weights can significantly impact the speed of convergence during training. Proper initialization methods can expedite convergence by providing a favorable starting point.\n",
        "   - Faster convergence means that the neural network requires fewer training iterations to reach a satisfactory solution, reducing computational resources and training time.\n",
        "\n",
        "4. **Generalization**:\n",
        "   - Weight variance can also influence a neural network's ability to generalize to unseen data. An appropriate initialization strategy encourages the network to converge to a solution that generalizes well.\n",
        "   - Overly large initial weights may lead to overfitting, where the network fits the training data too closely but performs poorly on new data. Overly small initial weights may lead to underfitting, where the network fails to capture the underlying patterns in the data.\n"
      ],
      "metadata": {
        "id": "Ub_99kFh7u7y"
      }
    },
    {
      "cell_type": "code",
      "source": [],
      "metadata": {
        "id": "5gX-xqjx7vit"
      },
      "execution_count": null,
      "outputs": []
    },
    {
      "cell_type": "markdown",
      "source": [
        "# Weight Initialization Techniques\n"
      ],
      "metadata": {
        "id": "ETwyf5m37xxg"
      }
    },
    {
      "cell_type": "code",
      "source": [],
      "metadata": {
        "id": "g4uZ3-937yd0"
      },
      "execution_count": null,
      "outputs": []
    },
    {
      "cell_type": "markdown",
      "source": [
        "### Q4. Explain the concept of zero initialization.Discuss its potential limitations and when it can be appropriate to use?"
      ],
      "metadata": {
        "id": "3GRdWjzT70cA"
      }
    },
    {
      "cell_type": "code",
      "source": [],
      "metadata": {
        "id": "N2r1Ut8571CU"
      },
      "execution_count": null,
      "outputs": []
    },
    {
      "cell_type": "markdown",
      "source": [
        "Zero initialization is a weight initialization technique where all the weights in a neural network are set to zero during initialization. While it may seem straightforward and easy to implement, zero initialization has some significant limitations, and it is not typically the recommended choice for weight initialization.\n",
        "\n",
        "**Zero Initialization**:\n",
        "- In zero initialization, all weights, biases, or parameters of the neural network are set to exactly zero.\n",
        "- Mathematically, this means initializing each weight, denoted as \\(W\\), as \\(W = 0\\).\n",
        "\n",
        "**Potential Limitations of Zero Initialization**:\n",
        "\n",
        "1. **Symmetry**: When all weights are initialized to zero, it creates a symmetry problem during training. During backpropagation, all neurons in a layer will have the same gradient, and they will all update their weights in the same way. As a result, the neurons remain symmetric, and the network cannot learn diverse features or representations.\n",
        "\n",
        "2. **Vanishing Gradients**: Zero initialization can lead to the vanishing gradient problem. If all weights are initialized to zero, the gradients of the loss with respect to the weights will also be zero. This results in extremely slow convergence and makes it challenging for the network to learn complex patterns in the data.\n",
        "\n",
        "3. **Loss of Expressiveness**: A neural network with all weights set to zero lacks the capacity to capture the diversity of patterns and relationships in the data. It severely limits the expressiveness and representational power of the network.\n",
        "\n",
        "**When Zero Initialization Can Be Appropriate**:\n",
        "\n",
        "\n",
        "1. **Custom Weight Initialization**: In some research or specialized applications, researchers may experiment with custom weight initialization methods, including zero initialization, to investigate their effects on specific problems or architectures.\n",
        "\n",
        "2. **Fine-Tuning Pretrained Models**: In transfer learning scenarios, when fine-tuning a pretrained model, the pretrained weights are usually not initialized to zero. However, the head or top layers (e.g., the classification layer) may be initialized with zeros or small random values and then trained to adapt to the specific task.\n",
        "\n",
        "3. **Exploratory Analysis**: Zero initialization can be used for exploratory purposes to understand how a neural network behaves when gradients are severely limited. This can provide insights into the challenges of training and help researchers appreciate the importance of proper weight initialization techniques.\n",
        "\n",
        "In most practical applications, especially when training deep neural networks from scratch, it is advisable to use more sophisticated weight initialization methods, such as Xavier/Glorot initialization or He initialization, which are designed to address the challenges associated with zero initialization, including vanishing gradients and symmetry problems. These methods help networks converge faster and perform better on a wide range of tasks."
      ],
      "metadata": {
        "id": "WbzvQhmY73pR"
      }
    },
    {
      "cell_type": "code",
      "source": [],
      "metadata": {
        "id": "KKo3oW8-74W8"
      },
      "execution_count": null,
      "outputs": []
    },
    {
      "cell_type": "markdown",
      "source": [
        "### Q5. Describe the process of random initialization. How can random initialization be adjusted to mitigate potential issues like saturation or vanishing/exploding gradients ?"
      ],
      "metadata": {
        "id": "lvUXPqJd76vr"
      }
    },
    {
      "cell_type": "code",
      "source": [],
      "metadata": {
        "id": "ENRtY_jZ77Z7"
      },
      "execution_count": null,
      "outputs": []
    },
    {
      "cell_type": "markdown",
      "source": [
        "Random initialization is a weight initialization technique commonly used in artificial neural networks to set the initial values of weights and biases to random values. The process involves generating random numbers from a specified distribution and using those values as initial weights. Random initialization can be adjusted to mitigate potential issues like saturation or vanishing/exploding gradients by selecting appropriate distribution parameters and scaling factors.\n",
        "\n",
        "**Process of Random Initialization**:\n",
        "\n",
        "1. **Select a Random Distribution**: Typically, random initialization involves selecting a probability distribution from which to draw random values. Common distributions used include:\n",
        "   - Normal (Gaussian) Distribution: Values are drawn from a Gaussian distribution with mean (μ) and standard deviation (σ).\n",
        "   - Uniform Distribution: Values are drawn uniformly from a specified range, such as [0, 1].\n",
        "\n",
        "2. **Set Distribution Parameters**: Specify the parameters of the selected distribution, such as mean (μ) and standard deviation (σ) for a normal distribution, or the minimum and maximum values for a uniform distribution.\n",
        "\n",
        "3. **Generate Random Values**: Use a random number generator to generate random values according to the chosen distribution and parameters. These values become the initial weights and biases for the neural network.\n",
        "\n",
        "**Adjustments to Mitigate Issues**:\n",
        "\n",
        "To mitigate potential issues like saturation or vanishing/exploding gradients during random initialization, several adjustments can be made:\n",
        "\n",
        "1. **Scaling by Variance**:\n",
        "   - Scaling the random initialization by the square root of the number of input units (fan-in) can help control the variance of activations in a layer.\n",
        "   - For example, in Xavier/Glorot initialization, the weights are drawn from a Gaussian distribution with mean 0 and variance (2 / (fan-in + fan-out)).\n",
        "\n",
        "2. **Scaling by Fan-Out**:\n",
        "   - In some cases, scaling the initialization by the number of output units (fan-out) may be more appropriate. This is often used with the hyperbolic tangent (tanh) activation function.\n",
        "   - For example, in LeCun initialization, the weights are drawn from a Gaussian distribution with mean 0 and variance (1 / fan-out).\n",
        "\n",
        "3. **Choosing the Right Distribution**:\n",
        "   - Depending on the activation function used, different random distributions may be more suitable. For example, ReLU activations often benefit from initializing weights with small positive values to avoid dead neurons.\n",
        "\n",
        "4. **Uniform Initialization with Proper Scaling**:\n",
        "   - If using a uniform distribution for initialization, it's important to scale the range appropriately to prevent saturation or vanishing/exploding gradients.\n",
        "   - For example, in He initialization for ReLU activations, the weights are drawn from a uniform distribution within the range [-a, a], where a =      √(2 / fan-in).\n",
        "\n",
        "5. **Bias Initialization**:\n",
        "   - It's common to initialize biases to small positive values (e.g., 0.1) or set them to zero, depending on the specific activation functions and network architecture.\n",
        "\n",
        "Random initialization, when adjusted correctly, helps address the challenges associated with improper weight initialization, such as vanishing and exploding gradients. Proper scaling and distribution selection ensure that activations remain within a desirable range during training, leading to faster convergence and better network performance."
      ],
      "metadata": {
        "id": "Js6_Jk-o7-Zf"
      }
    },
    {
      "cell_type": "code",
      "source": [],
      "metadata": {
        "id": "_PhCx3eQ7_A9"
      },
      "execution_count": null,
      "outputs": []
    },
    {
      "cell_type": "markdown",
      "source": [
        "### Q6. Discuss the concept of Xavier/Glorot initialization. Explain how it addresses the challenges of improper weight initialization and the underlying theory behind it ?\n"
      ],
      "metadata": {
        "id": "am-qorPe8A93"
      }
    },
    {
      "cell_type": "code",
      "source": [],
      "metadata": {
        "id": "IQiQo9Gy8BoT"
      },
      "execution_count": null,
      "outputs": []
    },
    {
      "cell_type": "markdown",
      "source": [
        "Xavier (also known as Glorot) initialization is a weight initialization technique designed to address the challenges of improper weight initialization in deep neural networks. It was proposed by Xavier Glorot and Yoshua Bengio in their 2010 paper titled \"Understanding the difficulty of training deep feedforward neural networks.\" Xavier initialization aims to set the initial weights in such a way that the variance of activations remains roughly constant across layers, which helps mitigate problems like vanishing and exploding gradients.\n",
        "\n",
        "**Xavier/Glorot Initialization Process**:\n",
        "\n",
        "1. **Select a Distribution**: Xavier initialization typically uses a normal (Gaussian) distribution with mean 0.\n",
        "\n",
        "2. **Calculate the Variance (Var)**: The variance of the selected distribution is calculated based on the number of input units (n_in) and output units (n_out) in the layer. The formula for calculating the variance is as follows:\n",
        "\n",
        "   Var = 2 / ((n_in) + (n_out))\n",
        "\n",
        "3. **Set the Initial Weights**: The initial weights are drawn from the selected normal distribution with mean 0 and variance (Var). In other words, the weights are randomly initialized with values sampled from this distribution.\n",
        "\n",
        "**Effectiveness of Xavier/Glorot Initialization**:\n",
        "\n",
        "The Xavier/Glorot initialization is based on maintaining the variance of activations across layers during forward and backward propagation. This variance preservation is essential for the efficient training of deep neural networks.\n",
        "\n",
        "1. **Balancing Gradients**: In backpropagation, gradients are propagated backward through the network. To ensure stable and efficient training, it is crucial that the variance of the gradients remains relatively constant across layers. If the variance is too small, gradients may vanish, and if it's too large, they may explode.\n",
        "\n",
        "2. **Balancing Activations**: Xavier initialization aims to maintain the variance of activations. If the weights are initialized with a large variance, the activations become too large, leading to saturation of activation functions like sigmoid and hyperbolic tangent (tanh). Conversely, if the weights have a small variance, activations may become too small, resulting in slow convergence.\n",
        "\n",
        "3. **Scaling by Fan-In and Fan-Out**: The choice of the variance formula **Var = 2 / ((n_in) + (n_out))** is based on balancing the contributions from the fan-in (number of input units) and fan-out (number of output units). This ensures that the network behaves consistently across different layers and architectures.\n",
        "\n",
        "Xavier initialization sets the initial weights of a neural network in a manner that helps overcome issues like vanishing and exploding gradients. It promotes stable and efficient training by ensuring that the variance of activations and gradients remains within desirable bounds. It is particularly suitable for layers with activation functions like sigmoid and hyperbolic tangent (tanh). However, for layers using the rectified linear unit (ReLU) activation function, He initialization is often preferred, as it is tailored to the characteristics of ReLU activations."
      ],
      "metadata": {
        "id": "qHNaqdHH8FXG"
      }
    },
    {
      "cell_type": "code",
      "source": [],
      "metadata": {
        "id": "I6Qv4C2j8F67"
      },
      "execution_count": null,
      "outputs": []
    },
    {
      "cell_type": "markdown",
      "source": [
        "### Q7. Explain the concept of He initialization. How does it differ from Xavier initialization, and when is it preferred ?"
      ],
      "metadata": {
        "id": "mgywCoHE8H_X"
      }
    },
    {
      "cell_type": "code",
      "source": [],
      "metadata": {
        "id": "AIo3bd1o8IsC"
      },
      "execution_count": null,
      "outputs": []
    },
    {
      "cell_type": "markdown",
      "source": [
        "He initialization is a weight initialization technique designed to address challenges in training deep neural networks, particularly when the rectified linear unit (ReLU) activation function is used. It was proposed by Kaiming He et al. in their 2015 paper titled \"Delving Deep into Rectifiers: Surpassing Human-Level Performance on ImageNet Classification.\"\n",
        "\n",
        "**He Initialization Process**:\n",
        "\n",
        "1. **Select a Distribution**: He initialization typically uses a normal (Gaussian) distribution with mean 0.\n",
        "\n",
        "2. **Calculate the Variance (Var)**: The variance of the selected distribution is calculated based on the number of input units (n_in) in the layer. The formula for calculating the variance is as follows:\n",
        "\n",
        "   Var = 2 / (n_in)\n",
        "\n",
        "3. **Set the Initial Weights**: The initial weights are drawn from the selected normal distribution with mean 0 and variance (Var). In other words, the weights are randomly initialized with values sampled from this distribution.\n",
        "\n",
        "**Differences Between He Initialization and Xavier Initialization**:\n",
        "\n",
        "1. **Variance Calculation**:\n",
        "   - The key difference between He initialization and Xavier initialization lies in how they calculate the variance for weight initialization.\n",
        "   - Xavier initialization considers both the number of input units (n_in) and output units (n_out) in the layer, using the formula **Var = 2 / ((n_in) + (n_out))**.\n",
        "   - He initialization, on the other hand, only considers the number of input units (n_in) and uses the formula **Var = 2 / (n_in)**. This results in a larger variance compared to Xavier initialization.\n",
        "\n",
        "2. **Activation Functions**:\n",
        "   - Xavier initialization was originally designed for activation functions like sigmoid and hyperbolic tangent (tanh), where the range of activations is between -1 and 1.\n",
        "   - He initialization is specifically tailored for ReLU (Rectified Linear Unit) and its variants (e.g., Leaky ReLU), which have a different activation range (from 0 to infinity).\n",
        "\n",
        "**When Is He Initialization Preferred?**:\n",
        "\n",
        "1. **ReLU Activation**: When the network uses the ReLU activation function or its variants (e.g., Leaky ReLU), He initialization is recommended. ReLU-based activations are widely used in modern deep learning architectures, and He initialization helps prevent issues like vanishing gradients.\n",
        "\n",
        "2. **Deep Networks**: He initialization is particularly well-suited for deep neural networks with many layers. As networks become deeper, the risk of vanishing gradients increases, making He initialization a valuable choice for training.\n",
        "\n",
        "3. **Convolutional Neural Networks (CNNs)**: CNNs often use ReLU activations, and He initialization has become a standard choice for initializing the weights of convolutional layers in CNN architectures.\n",
        "\n",
        "He initialization, is a weight initialization technique optimized for ReLU activations. It sets the initial weights with a larger variance, allowing the network to overcome the vanishing gradient problem commonly associated with ReLU-based activations. While Xavier initialization remains a useful choice for certain activation functions, He initialization is preferred in scenarios where ReLU is the primary activation function."
      ],
      "metadata": {
        "id": "NGV6euDo8M8H"
      }
    },
    {
      "cell_type": "code",
      "source": [],
      "metadata": {
        "id": "ep5eaePF8NmT"
      },
      "execution_count": null,
      "outputs": []
    },
    {
      "cell_type": "markdown",
      "source": [
        "# Applying Weight Initialization"
      ],
      "metadata": {
        "id": "JK7J-ofk8P5Q"
      }
    },
    {
      "cell_type": "code",
      "source": [],
      "metadata": {
        "id": "KBjHb1F28Qdj"
      },
      "execution_count": null,
      "outputs": []
    },
    {
      "cell_type": "markdown",
      "source": [
        "### Q1. Implement different weight initialization techniques (zero initialization, random initialization, Xavier initialization, and He initialization) in a neural network using a framework of your choice. Train the model on a suitable dataset and compare the performance of the initialized models\n"
      ],
      "metadata": {
        "id": "u-1Q8w5L8SwX"
      }
    },
    {
      "cell_type": "code",
      "source": [
        "#Importing the libraries\n",
        "import keras\n",
        "import tensorflow as tf\n",
        "import pandas as pd\n",
        "import numpy as np\n",
        "import matplotlib.pyplot as plt\n",
        "import seaborn as sns"
      ],
      "metadata": {
        "id": "NTfR5bee8Tiy"
      },
      "execution_count": 5,
      "outputs": []
    },
    {
      "cell_type": "code",
      "source": [
        "#Printing their versions\n",
        "print(f\"Tensorflow Version {tf.__version__}\")\n",
        "print(f\"Keras Version {keras.__version__}\")"
      ],
      "metadata": {
        "colab": {
          "base_uri": "https://localhost:8080/"
        },
        "id": "C2RByIRe8VhU",
        "outputId": "b394ab35-90f0-4703-d0c5-be379e6fe320"
      },
      "execution_count": 6,
      "outputs": [
        {
          "output_type": "stream",
          "name": "stdout",
          "text": [
            "Tensorflow Version 2.17.1\n",
            "Keras Version 3.5.0\n"
          ]
        }
      ]
    },
    {
      "cell_type": "markdown",
      "source": [],
      "metadata": {
        "id": "MkoJKe0d8ogw"
      }
    },
    {
      "cell_type": "code",
      "source": [
        "#Load the dataset\n",
        "mnist = keras.datasets.mnist\n",
        "\n",
        "(X_train_full , y_train_full) , (X_test , y_test) = mnist.load_data()"
      ],
      "metadata": {
        "colab": {
          "base_uri": "https://localhost:8080/"
        },
        "id": "2KdSYyzb8o7n",
        "outputId": "e36363c3-6a1a-4c08-f0a0-6aed34eb3221"
      },
      "execution_count": 7,
      "outputs": [
        {
          "output_type": "stream",
          "name": "stdout",
          "text": [
            "Downloading data from https://storage.googleapis.com/tensorflow/tf-keras-datasets/mnist.npz\n",
            "\u001b[1m11490434/11490434\u001b[0m \u001b[32m━━━━━━━━━━━━━━━━━━━━\u001b[0m\u001b[37m\u001b[0m \u001b[1m2s\u001b[0m 0us/step\n"
          ]
        }
      ]
    },
    {
      "cell_type": "code",
      "source": [
        "X_test.shape , X_train_full.shape"
      ],
      "metadata": {
        "colab": {
          "base_uri": "https://localhost:8080/"
        },
        "id": "qBSFkji28poy",
        "outputId": "7227923f-accb-40ea-bae5-5afa56d3b52f"
      },
      "execution_count": 8,
      "outputs": [
        {
          "output_type": "execute_result",
          "data": {
            "text/plain": [
              "((10000, 28, 28), (60000, 28, 28))"
            ]
          },
          "metadata": {},
          "execution_count": 8
        }
      ]
    },
    {
      "cell_type": "code",
      "source": [
        "#Create a validation set from the full training data\n",
        "# Scale the data between 0 to 1 by dividing it by 255. as its an unsigned data between 0-255 range\n",
        "X_valid , X_train = (X_train_full[:7500]/255),(X_train_full[7500:]/255)\n",
        "X_test = X_test / 255\n",
        "# Scaling is not needed for out o/p feature\n",
        "y_valid , y_train = (y_train_full[:7500]),(y_train_full[7500:])"
      ],
      "metadata": {
        "id": "QmHgCBR08taa"
      },
      "execution_count": 9,
      "outputs": []
    },
    {
      "cell_type": "code",
      "source": [
        "X_train.shape , y_train.shape"
      ],
      "metadata": {
        "colab": {
          "base_uri": "https://localhost:8080/"
        },
        "id": "udPoBBY18ve7",
        "outputId": "e8d10f0f-a6e5-49b6-931d-2967c2cb4665"
      },
      "execution_count": 10,
      "outputs": [
        {
          "output_type": "execute_result",
          "data": {
            "text/plain": [
              "((52500, 28, 28), (52500,))"
            ]
          },
          "metadata": {},
          "execution_count": 10
        }
      ]
    },
    {
      "cell_type": "code",
      "source": [
        "X_test.shape , y_test.shape"
      ],
      "metadata": {
        "colab": {
          "base_uri": "https://localhost:8080/"
        },
        "id": "gKKqNPKn8xH5",
        "outputId": "09530027-53c1-400c-d481-320f25f8c941"
      },
      "execution_count": 11,
      "outputs": [
        {
          "output_type": "execute_result",
          "data": {
            "text/plain": [
              "((10000, 28, 28), (10000,))"
            ]
          },
          "metadata": {},
          "execution_count": 11
        }
      ]
    },
    {
      "cell_type": "code",
      "source": [
        "X_valid.shape , y_valid.shape"
      ],
      "metadata": {
        "colab": {
          "base_uri": "https://localhost:8080/"
        },
        "id": "D42zh8RX8y_p",
        "outputId": "1d99a14e-c746-4bc0-a5b1-aad250ab9e35"
      },
      "execution_count": 12,
      "outputs": [
        {
          "output_type": "execute_result",
          "data": {
            "text/plain": [
              "((7500, 28, 28), (7500,))"
            ]
          },
          "metadata": {},
          "execution_count": 12
        }
      ]
    },
    {
      "cell_type": "code",
      "source": [
        "#Viewing a random data\n",
        "plt.imshow(X_train[0],cmap=\"binary\")"
      ],
      "metadata": {
        "colab": {
          "base_uri": "https://localhost:8080/",
          "height": 447
        },
        "id": "CADC_Eti80kB",
        "outputId": "39eb4e6c-780d-4486-fc1e-687246bdff99"
      },
      "execution_count": 13,
      "outputs": [
        {
          "output_type": "execute_result",
          "data": {
            "text/plain": [
              "<matplotlib.image.AxesImage at 0x7b5144f7fee0>"
            ]
          },
          "metadata": {},
          "execution_count": 13
        },
        {
          "output_type": "display_data",
          "data": {
            "text/plain": [
              "<Figure size 640x480 with 1 Axes>"
            ],
            "image/png": "[encoded data removed]"
          },
          "metadata": {}
        }
      ]
    },
    {
      "cell_type": "code",
      "source": [
        "#Creating Layers of NN with zero initializer\n",
        "\n",
        "LAYERS = [keras.layers.Flatten(input_shape =[28,28],name=\"InputLayer\"),\n",
        "          keras.layers.Dense(300,activation=\"relu\",kernel_initializer='zeros',name=\"HiddenLayer2\"),\n",
        "          keras.layers.Dense(100,activation=\"relu\",kernel_initializer='zeros',name=\"HiddenLayer3\"),\n",
        "          keras.layers.Dense(10,activation=\"softmax\",kernel_initializer='zeros',name=\"OutputLayer\")\n",
        "          ]\n",
        "\n",
        "#Creating a Sequential model with the zero initializer\n",
        "zero_initializer_model = keras.models.Sequential(LAYERS)\n",
        "\n",
        "# Compile and train the model\n",
        "zero_initializer_model.compile(optimizer='adam', loss='sparse_categorical_crossentropy', metrics=['accuracy'])\n",
        "zero_initializer_history = zero_initializer_model.fit(X_train, y_train, validation_data=(X_valid, y_valid), epochs=10)"
      ],
      "metadata": {
        "colab": {
          "base_uri": "https://localhost:8080/"
        },
        "id": "IA6GemSD82Vx",
        "outputId": "5b2a30ef-66d5-48c7-d0c0-2febbc2950b5"
      },
      "execution_count": 14,
      "outputs": [
        {
          "output_type": "stream",
          "name": "stderr",
          "text": [
            "/usr/local/lib/python3.10/dist-packages/keras/src/layers/reshaping/flatten.py:37: UserWarning: Do not pass an `input_shape`/`input_dim` argument to a layer. When using Sequential models, prefer using an `Input(shape)` object as the first layer in the model instead.\n",
            "  super().__init__(**kwargs)\n"
          ]
        },
        {
          "output_type": "stream",
          "name": "stdout",
          "text": [
            "Epoch 1/10\n",
            "\u001b[1m1641/1641\u001b[0m \u001b[32m━━━━━━━━━━━━━━━━━━━━\u001b[0m\u001b[37m\u001b[0m \u001b[1m10s\u001b[0m 4ms/step - accuracy: 0.1107 - loss: 2.3018 - val_accuracy: 0.1123 - val_loss: 2.3009\n",
            "Epoch 2/10\n",
            "\u001b[1m1641/1641\u001b[0m \u001b[32m━━━━━━━━━━━━━━━━━━━━\u001b[0m\u001b[37m\u001b[0m \u001b[1m3s\u001b[0m 2ms/step - accuracy: 0.1124 - loss: 2.3013 - val_accuracy: 0.1123 - val_loss: 2.3009\n",
            "Epoch 3/10\n",
            "\u001b[1m1641/1641\u001b[0m \u001b[32m━━━━━━━━━━━━━━━━━━━━\u001b[0m\u001b[37m\u001b[0m \u001b[1m3s\u001b[0m 2ms/step - accuracy: 0.1112 - loss: 2.3014 - val_accuracy: 0.1123 - val_loss: 2.3011\n",
            "Epoch 4/10\n",
            "\u001b[1m1641/1641\u001b[0m \u001b[32m━━━━━━━━━━━━━━━━━━━━\u001b[0m\u001b[37m\u001b[0m \u001b[1m3s\u001b[0m 2ms/step - accuracy: 0.1120 - loss: 2.3015 - val_accuracy: 0.1123 - val_loss: 2.3010\n",
            "Epoch 5/10\n",
            "\u001b[1m1641/1641\u001b[0m \u001b[32m━━━━━━━━━━━━━━━━━━━━\u001b[0m\u001b[37m\u001b[0m \u001b[1m5s\u001b[0m 2ms/step - accuracy: 0.1133 - loss: 2.3012 - val_accuracy: 0.1123 - val_loss: 2.3010\n",
            "Epoch 6/10\n",
            "\u001b[1m1641/1641\u001b[0m \u001b[32m━━━━━━━━━━━━━━━━━━━━\u001b[0m\u001b[37m\u001b[0m \u001b[1m5s\u001b[0m 2ms/step - accuracy: 0.1131 - loss: 2.3013 - val_accuracy: 0.1123 - val_loss: 2.3008\n",
            "Epoch 7/10\n",
            "\u001b[1m1641/1641\u001b[0m \u001b[32m━━━━━━━━━━━━━━━━━━━━\u001b[0m\u001b[37m\u001b[0m \u001b[1m3s\u001b[0m 2ms/step - accuracy: 0.1119 - loss: 2.3012 - val_accuracy: 0.1123 - val_loss: 2.3009\n",
            "Epoch 8/10\n",
            "\u001b[1m1641/1641\u001b[0m \u001b[32m━━━━━━━━━━━━━━━━━━━━\u001b[0m\u001b[37m\u001b[0m \u001b[1m5s\u001b[0m 2ms/step - accuracy: 0.1125 - loss: 2.3011 - val_accuracy: 0.1123 - val_loss: 2.3011\n",
            "Epoch 9/10\n",
            "\u001b[1m1641/1641\u001b[0m \u001b[32m━━━━━━━━━━━━━━━━━━━━\u001b[0m\u001b[37m\u001b[0m \u001b[1m5s\u001b[0m 2ms/step - accuracy: 0.1118 - loss: 2.3014 - val_accuracy: 0.1123 - val_loss: 2.3011\n",
            "Epoch 10/10\n",
            "\u001b[1m1641/1641\u001b[0m \u001b[32m━━━━━━━━━━━━━━━━━━━━\u001b[0m\u001b[37m\u001b[0m \u001b[1m6s\u001b[0m 2ms/step - accuracy: 0.1145 - loss: 2.3012 - val_accuracy: 0.1123 - val_loss: 2.3010\n"
          ]
        }
      ]
    },
    {
      "cell_type": "code",
      "source": [
        "#Creating Layers of NN with Random Uniform\n",
        "\n",
        "\n",
        "LAYER = [keras.layers.Flatten(input_shape =[28,28],name=\"InputLayer\"),\n",
        "          keras.layers.Dense(300,activation=\"relu\",kernel_initializer='random_uniform',name=\"HiddenLayer2\"),\n",
        "          keras.layers.Dense(100,activation=\"relu\",kernel_initializer='random_uniform',name=\"HiddenLayer3\"),\n",
        "          keras.layers.Dense(10,activation=\"softmax\",kernel_initializer='random_uniform',name=\"OutputLayer\")\n",
        "          ]\n",
        "\n",
        "#Creating a Sequential model with the Random Uniform initializer\n",
        "random_uniform_initializer_model = keras.models.Sequential(LAYER)\n",
        "\n",
        "# Compile and train the model\n",
        "random_uniform_initializer_model.compile(optimizer='adam', loss='sparse_categorical_crossentropy', metrics=['accuracy'])\n",
        "random_uniform_initializer_history = random_uniform_initializer_model.fit(X_train, y_train, validation_data=(X_valid, y_valid), epochs=10)"
      ],
      "metadata": {
        "colab": {
          "base_uri": "https://localhost:8080/"
        },
        "id": "NUoVRC4f85Dp",
        "outputId": "038d55a3-1eb3-4c28-dbc9-3a52fdac1605"
      },
      "execution_count": 15,
      "outputs": [
        {
          "output_type": "stream",
          "name": "stdout",
          "text": [
            "Epoch 1/10\n",
            "\u001b[1m1641/1641\u001b[0m \u001b[32m━━━━━━━━━━━━━━━━━━━━\u001b[0m\u001b[37m\u001b[0m \u001b[1m6s\u001b[0m 3ms/step - accuracy: 0.8538 - loss: 0.5110 - val_accuracy: 0.9619 - val_loss: 0.1347\n",
            "Epoch 2/10\n",
            "\u001b[1m1641/1641\u001b[0m \u001b[32m━━━━━━━━━━━━━━━━━━━━\u001b[0m\u001b[37m\u001b[0m \u001b[1m4s\u001b[0m 2ms/step - accuracy: 0.9663 - loss: 0.1097 - val_accuracy: 0.9687 - val_loss: 0.1090\n",
            "Epoch 3/10\n",
            "\u001b[1m1641/1641\u001b[0m \u001b[32m━━━━━━━━━━━━━━━━━━━━\u001b[0m\u001b[37m\u001b[0m \u001b[1m3s\u001b[0m 2ms/step - accuracy: 0.9785 - loss: 0.0675 - val_accuracy: 0.9689 - val_loss: 0.1021\n",
            "Epoch 4/10\n",
            "\u001b[1m1641/1641\u001b[0m \u001b[32m━━━━━━━━━━━━━━━━━━━━\u001b[0m\u001b[37m\u001b[0m \u001b[1m5s\u001b[0m 2ms/step - accuracy: 0.9843 - loss: 0.0464 - val_accuracy: 0.9772 - val_loss: 0.0802\n",
            "Epoch 5/10\n",
            "\u001b[1m1641/1641\u001b[0m \u001b[32m━━━━━━━━━━━━━━━━━━━━\u001b[0m\u001b[37m\u001b[0m \u001b[1m4s\u001b[0m 2ms/step - accuracy: 0.9895 - loss: 0.0333 - val_accuracy: 0.9788 - val_loss: 0.0789\n",
            "Epoch 6/10\n",
            "\u001b[1m1641/1641\u001b[0m \u001b[32m━━━━━━━━━━━━━━━━━━━━\u001b[0m\u001b[37m\u001b[0m \u001b[1m4s\u001b[0m 2ms/step - accuracy: 0.9909 - loss: 0.0266 - val_accuracy: 0.9776 - val_loss: 0.0851\n",
            "Epoch 7/10\n",
            "\u001b[1m1641/1641\u001b[0m \u001b[32m━━━━━━━━━━━━━━━━━━━━\u001b[0m\u001b[37m\u001b[0m \u001b[1m3s\u001b[0m 2ms/step - accuracy: 0.9930 - loss: 0.0208 - val_accuracy: 0.9777 - val_loss: 0.0850\n",
            "Epoch 8/10\n",
            "\u001b[1m1641/1641\u001b[0m \u001b[32m━━━━━━━━━━━━━━━━━━━━\u001b[0m\u001b[37m\u001b[0m \u001b[1m6s\u001b[0m 2ms/step - accuracy: 0.9943 - loss: 0.0177 - val_accuracy: 0.9793 - val_loss: 0.0886\n",
            "Epoch 9/10\n",
            "\u001b[1m1641/1641\u001b[0m \u001b[32m━━━━━━━━━━━━━━━━━━━━\u001b[0m\u001b[37m\u001b[0m \u001b[1m3s\u001b[0m 2ms/step - accuracy: 0.9942 - loss: 0.0158 - val_accuracy: 0.9780 - val_loss: 0.0955\n",
            "Epoch 10/10\n",
            "\u001b[1m1641/1641\u001b[0m \u001b[32m━━━━━━━━━━━━━━━━━━━━\u001b[0m\u001b[37m\u001b[0m \u001b[1m5s\u001b[0m 2ms/step - accuracy: 0.9951 - loss: 0.0150 - val_accuracy: 0.9752 - val_loss: 0.1260\n"
          ]
        }
      ]
    },
    {
      "cell_type": "code",
      "source": [
        "#Creating Layers of NN with Glorot Normal\n",
        "\n",
        "\n",
        "LAYERR = [keras.layers.Flatten(input_shape =[28,28],name=\"InputLayer\"),\n",
        "          keras.layers.Dense(300,activation=\"relu\",kernel_initializer='glorot_normal',name=\"HiddenLayer2\"),\n",
        "          keras.layers.Dense(100,activation=\"relu\",kernel_initializer='glorot_normal',name=\"HiddenLayer3\"),\n",
        "          keras.layers.Dense(10,activation=\"softmax\",kernel_initializer='glorot_normal',name=\"OutputLayer\")\n",
        "          ]\n",
        "\n",
        "#Creating a Sequential model with the  Glorot Normal initializer\n",
        "glorot_normal_initializer_model = keras.models.Sequential(LAYERR)\n",
        "\n",
        "# Compile and train the model\n",
        "glorot_normal_initializer_model.compile(optimizer='adam', loss='sparse_categorical_crossentropy', metrics=['accuracy'])\n",
        "glorot_normal_initializer_history = glorot_normal_initializer_model.fit(X_train, y_train, validation_data=(X_valid, y_valid), epochs=10)"
      ],
      "metadata": {
        "colab": {
          "base_uri": "https://localhost:8080/"
        },
        "id": "20UhcbHk8-VT",
        "outputId": "2548316f-a146-40dd-f7ab-b40697d78fe7"
      },
      "execution_count": 16,
      "outputs": [
        {
          "output_type": "stream",
          "name": "stdout",
          "text": [
            "Epoch 1/10\n",
            "\u001b[1m1641/1641\u001b[0m \u001b[32m━━━━━━━━━━━━━━━━━━━━\u001b[0m\u001b[37m\u001b[0m \u001b[1m7s\u001b[0m 3ms/step - accuracy: 0.8865 - loss: 0.3783 - val_accuracy: 0.9644 - val_loss: 0.1161\n",
            "Epoch 2/10\n",
            "\u001b[1m1641/1641\u001b[0m \u001b[32m━━━━━━━━━━━━━━━━━━━━\u001b[0m\u001b[37m\u001b[0m \u001b[1m3s\u001b[0m 2ms/step - accuracy: 0.9720 - loss: 0.0912 - val_accuracy: 0.9720 - val_loss: 0.0950\n",
            "Epoch 3/10\n",
            "\u001b[1m1641/1641\u001b[0m \u001b[32m━━━━━━━━━━━━━━━━━━━━\u001b[0m\u001b[37m\u001b[0m \u001b[1m3s\u001b[0m 2ms/step - accuracy: 0.9818 - loss: 0.0581 - val_accuracy: 0.9728 - val_loss: 0.0949\n",
            "Epoch 4/10\n",
            "\u001b[1m1641/1641\u001b[0m \u001b[32m━━━━━━━━━━━━━━━━━━━━\u001b[0m\u001b[37m\u001b[0m \u001b[1m6s\u001b[0m 2ms/step - accuracy: 0.9870 - loss: 0.0404 - val_accuracy: 0.9751 - val_loss: 0.0858\n",
            "Epoch 5/10\n",
            "\u001b[1m1641/1641\u001b[0m \u001b[32m━━━━━━━━━━━━━━━━━━━━\u001b[0m\u001b[37m\u001b[0m \u001b[1m5s\u001b[0m 2ms/step - accuracy: 0.9913 - loss: 0.0284 - val_accuracy: 0.9741 - val_loss: 0.0912\n",
            "Epoch 6/10\n",
            "\u001b[1m1641/1641\u001b[0m \u001b[32m━━━━━━━━━━━━━━━━━━━━\u001b[0m\u001b[37m\u001b[0m \u001b[1m3s\u001b[0m 2ms/step - accuracy: 0.9914 - loss: 0.0258 - val_accuracy: 0.9736 - val_loss: 0.0959\n",
            "Epoch 7/10\n",
            "\u001b[1m1641/1641\u001b[0m \u001b[32m━━━━━━━━━━━━━━━━━━━━\u001b[0m\u001b[37m\u001b[0m \u001b[1m4s\u001b[0m 2ms/step - accuracy: 0.9922 - loss: 0.0233 - val_accuracy: 0.9768 - val_loss: 0.0961\n",
            "Epoch 8/10\n",
            "\u001b[1m1641/1641\u001b[0m \u001b[32m━━━━━━━━━━━━━━━━━━━━\u001b[0m\u001b[37m\u001b[0m \u001b[1m4s\u001b[0m 2ms/step - accuracy: 0.9942 - loss: 0.0177 - val_accuracy: 0.9811 - val_loss: 0.0846\n",
            "Epoch 9/10\n",
            "\u001b[1m1641/1641\u001b[0m \u001b[32m━━━━━━━━━━━━━━━━━━━━\u001b[0m\u001b[37m\u001b[0m \u001b[1m3s\u001b[0m 2ms/step - accuracy: 0.9951 - loss: 0.0146 - val_accuracy: 0.9763 - val_loss: 0.1014\n",
            "Epoch 10/10\n",
            "\u001b[1m1641/1641\u001b[0m \u001b[32m━━━━━━━━━━━━━━━━━━━━\u001b[0m\u001b[37m\u001b[0m \u001b[1m3s\u001b[0m 2ms/step - accuracy: 0.9957 - loss: 0.0137 - val_accuracy: 0.9800 - val_loss: 0.0905\n"
          ]
        }
      ]
    },
    {
      "cell_type": "code",
      "source": [
        "#Creating Layers of NN with He Normal\n",
        "\n",
        "\n",
        "LAYERRS = [keras.layers.Flatten(input_shape =[28,28],name=\"InputLayer\"),\n",
        "          keras.layers.Dense(300,activation=\"relu\",kernel_initializer='he_normal',name=\"HiddenLayer2\"),\n",
        "          keras.layers.Dense(100,activation=\"relu\",kernel_initializer='he_normal',name=\"HiddenLayer3\"),\n",
        "          keras.layers.Dense(10,activation=\"softmax\",kernel_initializer='he_normal',name=\"OutputLayer\")\n",
        "          ]\n",
        "\n",
        "#Creating a Sequential model with the He Normal initializer\n",
        "he_normal_initializer_model = keras.models.Sequential(LAYERRS)\n",
        "\n",
        "# Compile and train the model\n",
        "he_normal_initializer_model.compile(optimizer='adam', loss='sparse_categorical_crossentropy', metrics=['accuracy'])\n",
        "he_normal_initializer_history = he_normal_initializer_model.fit(X_train, y_train, validation_data=(X_valid, y_valid), epochs=10)"
      ],
      "metadata": {
        "colab": {
          "base_uri": "https://localhost:8080/"
        },
        "id": "-PgmOXUG9BeY",
        "outputId": "bcb72459-2f7e-4641-d7e9-b956cc606ed4"
      },
      "execution_count": 17,
      "outputs": [
        {
          "output_type": "stream",
          "name": "stdout",
          "text": [
            "Epoch 1/10\n",
            "\u001b[1m1641/1641\u001b[0m \u001b[32m━━━━━━━━━━━━━━━━━━━━\u001b[0m\u001b[37m\u001b[0m \u001b[1m7s\u001b[0m 3ms/step - accuracy: 0.8878 - loss: 0.3784 - val_accuracy: 0.9661 - val_loss: 0.1100\n",
            "Epoch 2/10\n",
            "\u001b[1m1641/1641\u001b[0m \u001b[32m━━━━━━━━━━━━━━━━━━━━\u001b[0m\u001b[37m\u001b[0m \u001b[1m8s\u001b[0m 2ms/step - accuracy: 0.9706 - loss: 0.0926 - val_accuracy: 0.9743 - val_loss: 0.0849\n",
            "Epoch 3/10\n",
            "\u001b[1m1641/1641\u001b[0m \u001b[32m━━━━━━━━━━━━━━━━━━━━\u001b[0m\u001b[37m\u001b[0m \u001b[1m3s\u001b[0m 2ms/step - accuracy: 0.9807 - loss: 0.0592 - val_accuracy: 0.9765 - val_loss: 0.0772\n",
            "Epoch 4/10\n",
            "\u001b[1m1641/1641\u001b[0m \u001b[32m━━━━━━━━━━━━━━━━━━━━\u001b[0m\u001b[37m\u001b[0m \u001b[1m5s\u001b[0m 2ms/step - accuracy: 0.9866 - loss: 0.0402 - val_accuracy: 0.9788 - val_loss: 0.0780\n",
            "Epoch 5/10\n",
            "\u001b[1m1641/1641\u001b[0m \u001b[32m━━━━━━━━━━━━━━━━━━━━\u001b[0m\u001b[37m\u001b[0m \u001b[1m4s\u001b[0m 2ms/step - accuracy: 0.9908 - loss: 0.0286 - val_accuracy: 0.9763 - val_loss: 0.0894\n",
            "Epoch 6/10\n",
            "\u001b[1m1641/1641\u001b[0m \u001b[32m━━━━━━━━━━━━━━━━━━━━\u001b[0m\u001b[37m\u001b[0m \u001b[1m4s\u001b[0m 2ms/step - accuracy: 0.9907 - loss: 0.0278 - val_accuracy: 0.9803 - val_loss: 0.0829\n",
            "Epoch 7/10\n",
            "\u001b[1m1641/1641\u001b[0m \u001b[32m━━━━━━━━━━━━━━━━━━━━\u001b[0m\u001b[37m\u001b[0m \u001b[1m5s\u001b[0m 2ms/step - accuracy: 0.9925 - loss: 0.0222 - val_accuracy: 0.9792 - val_loss: 0.0861\n",
            "Epoch 8/10\n",
            "\u001b[1m1641/1641\u001b[0m \u001b[32m━━━━━━━━━━━━━━━━━━━━\u001b[0m\u001b[37m\u001b[0m \u001b[1m5s\u001b[0m 2ms/step - accuracy: 0.9937 - loss: 0.0183 - val_accuracy: 0.9779 - val_loss: 0.1086\n",
            "Epoch 9/10\n",
            "\u001b[1m1641/1641\u001b[0m \u001b[32m━━━━━━━━━━━━━━━━━━━━\u001b[0m\u001b[37m\u001b[0m \u001b[1m5s\u001b[0m 2ms/step - accuracy: 0.9946 - loss: 0.0164 - val_accuracy: 0.9781 - val_loss: 0.1000\n",
            "Epoch 10/10\n",
            "\u001b[1m1641/1641\u001b[0m \u001b[32m━━━━━━━━━━━━━━━━━━━━\u001b[0m\u001b[37m\u001b[0m \u001b[1m3s\u001b[0m 2ms/step - accuracy: 0.9948 - loss: 0.0151 - val_accuracy: 0.9773 - val_loss: 0.1088\n"
          ]
        }
      ]
    },
    {
      "cell_type": "code",
      "source": [
        "zero_initializer_df = pd.DataFrame(zero_initializer_history.history)\n",
        "random_uniform_initializer_df = pd.DataFrame(random_uniform_initializer_history.history)\n",
        "glorot_normal_initializer_df = pd.DataFrame(glorot_normal_initializer_history.history)\n",
        "he_normal_df = pd.DataFrame(he_normal_initializer_history.history)"
      ],
      "metadata": {
        "id": "OoeYxjzQ9HqO"
      },
      "execution_count": 18,
      "outputs": []
    },
    {
      "cell_type": "code",
      "source": [
        "zero_initializer_df"
      ],
      "metadata": {
        "colab": {
          "base_uri": "https://localhost:8080/",
          "height": 363
        },
        "id": "OE9XAl9a9JvQ",
        "outputId": "30064ea6-4f76-423a-f9e2-c0d4e31b6959"
      },
      "execution_count": 19,
      "outputs": [
        {
          "output_type": "execute_result",
          "data": {
            "text/plain": [
              "   accuracy      loss  val_accuracy  val_loss\n",
              "0  0.111524  2.301605      0.112267  2.300868\n",
              "1  0.112381  2.301408      0.112267  2.300930\n",
              "2  0.112381  2.301363      0.112267  2.301070\n",
              "3  0.112381  2.301406      0.112267  2.301035\n",
              "4  0.112381  2.301396      0.112267  2.300956\n",
              "5  0.112381  2.301397      0.112267  2.300849\n",
              "6  0.112381  2.301342      0.112267  2.300915\n",
              "7  0.112381  2.301402      0.112267  2.301131\n",
              "8  0.112381  2.301393      0.112267  2.301072\n",
              "9  0.112381  2.301364      0.112267  2.300964"
            ],
            "text/html": [
              "\n",
              "  <div id=\"df-9a37487a-fc9d-4363-9813-388bac29e241\" class=\"colab-df-container\">\n",
              "    <div>\n",
              "<style scoped>\n",
              "    .dataframe tbody tr th:only-of-type {\n",
              "        vertical-align: middle;\n",
              "    }\n",
              "\n",
              "    .dataframe tbody tr th {\n",
              "        vertical-align: top;\n",
              "    }\n",
              "\n",
              "    .dataframe thead th {\n",
              "        text-align: right;\n",
              "    }\n",
              "</style>\n",
              "<table border=\"1\" class=\"dataframe\">\n",
              "  <thead>\n",
              "    <tr style=\"text-align: right;\">\n",
              "      <th></th>\n",
              "      <th>accuracy</th>\n",
              "      <th>loss</th>\n",
              "      <th>val_accuracy</th>\n",
              "      <th>val_loss</th>\n",
              "    </tr>\n",
              "  </thead>\n",
              "  <tbody>\n",
              "    <tr>\n",
              "      <th>0</th>\n",
              "      <td>0.111524</td>\n",
              "      <td>2.301605</td>\n",
              "      <td>0.112267</td>\n",
              "      <td>2.300868</td>\n",
              "    </tr>\n",
              "    <tr>\n",
              "      <th>1</th>\n",
              "      <td>0.112381</td>\n",
              "      <td>2.301408</td>\n",
              "      <td>0.112267</td>\n",
              "      <td>2.300930</td>\n",
              "    </tr>\n",
              "    <tr>\n",
              "      <th>2</th>\n",
              "      <td>0.112381</td>\n",
              "      <td>2.301363</td>\n",
              "      <td>0.112267</td>\n",
              "      <td>2.301070</td>\n",
              "    </tr>\n",
              "    <tr>\n",
              "      <th>3</th>\n",
              "      <td>0.112381</td>\n",
              "      <td>2.301406</td>\n",
              "      <td>0.112267</td>\n",
              "      <td>2.301035</td>\n",
              "    </tr>\n",
              "    <tr>\n",
              "      <th>4</th>\n",
              "      <td>0.112381</td>\n",
              "      <td>2.301396</td>\n",
              "      <td>0.112267</td>\n",
              "      <td>2.300956</td>\n",
              "    </tr>\n",
              "    <tr>\n",
              "      <th>5</th>\n",
              "      <td>0.112381</td>\n",
              "      <td>2.301397</td>\n",
              "      <td>0.112267</td>\n",
              "      <td>2.300849</td>\n",
              "    </tr>\n",
              "    <tr>\n",
              "      <th>6</th>\n",
              "      <td>0.112381</td>\n",
              "      <td>2.301342</td>\n",
              "      <td>0.112267</td>\n",
              "      <td>2.300915</td>\n",
              "    </tr>\n",
              "    <tr>\n",
              "      <th>7</th>\n",
              "      <td>0.112381</td>\n",
              "      <td>2.301402</td>\n",
              "      <td>0.112267</td>\n",
              "      <td>2.301131</td>\n",
              "    </tr>\n",
              "    <tr>\n",
              "      <th>8</th>\n",
              "      <td>0.112381</td>\n",
              "      <td>2.301393</td>\n",
              "      <td>0.112267</td>\n",
              "      <td>2.301072</td>\n",
              "    </tr>\n",
              "    <tr>\n",
              "      <th>9</th>\n",
              "      <td>0.112381</td>\n",
              "      <td>2.301364</td>\n",
              "      <td>0.112267</td>\n",
              "      <td>2.300964</td>\n",
              "    </tr>\n",
              "  </tbody>\n",
              "</table>\n",
              "</div>\n",
              "    <div class=\"colab-df-buttons\">\n",
              "\n",
              "  <div class=\"colab-df-container\">\n",
              "    <button class=\"colab-df-convert\" onclick=\"convertToInteractive('df-9a37487a-fc9d-4363-9813-388bac29e241')\"\n",
              "            title=\"Convert this dataframe to an interactive table.\"\n",
              "            style=\"display:none;\">\n",
              "\n",
              "  <svg xmlns=\"http://www.w3.org/2000/svg\" height=\"24px\" viewBox=\"0 -960 960 960\">\n",
              "    <path d=\"M120-120v-720h720v720H120Zm60-500h600v-160H180v160Zm220 220h160v-160H400v160Zm0 220h160v-160H400v160ZM180-400h160v-160H180v160Zm440 0h160v-160H620v160ZM180-180h160v-160H180v160Zm440 0h160v-160H620v160Z\"/>\n",
              "  </svg>\n",
              "    </button>\n",
              "\n",
              "  <style>\n",
              "    .colab-df-container {\n",
              "      display:flex;\n",
              "      gap: 12px;\n",
              "    }\n",
              "\n",
              "    .colab-df-convert {\n",
              "      background-color: #E8F0FE;\n",
              "      border: none;\n",
              "      border-radius: 50%;\n",
              "      cursor: pointer;\n",
              "      display: none;\n",
              "      fill: #1967D2;\n",
              "      height: 32px;\n",
              "      padding: 0 0 0 0;\n",
              "      width: 32px;\n",
              "    }\n",
              "\n",
              "    .colab-df-convert:hover {\n",
              "      background-color: #E2EBFA;\n",
              "      box-shadow: 0px 1px 2px rgba(60, 64, 67, 0.3), 0px 1px 3px 1px rgba(60, 64, 67, 0.15);\n",
              "      fill: #174EA6;\n",
              "    }\n",
              "\n",
              "    .colab-df-buttons div {\n",
              "      margin-bottom: 4px;\n",
              "    }\n",
              "\n",
              "    [theme=dark] .colab-df-convert {\n",
              "      background-color: #3B4455;\n",
              "      fill: #D2E3FC;\n",
              "    }\n",
              "\n",
              "    [theme=dark] .colab-df-convert:hover {\n",
              "      background-color: #434B5C;\n",
              "      box-shadow: 0px 1px 3px 1px rgba(0, 0, 0, 0.15);\n",
              "      filter: drop-shadow(0px 1px 2px rgba(0, 0, 0, 0.3));\n",
              "      fill: #FFFFFF;\n",
              "    }\n",
              "  </style>\n",
              "\n",
              "    <script>\n",
              "      const buttonEl =\n",
              "        document.querySelector('#df-9a37487a-fc9d-4363-9813-388bac29e241 button.colab-df-convert');\n",
              "      buttonEl.style.display =\n",
              "        google.colab.kernel.accessAllowed ? 'block' : 'none';\n",
              "\n",
              "      async function convertToInteractive(key) {\n",
              "        const element = document.querySelector('#df-9a37487a-fc9d-4363-9813-388bac29e241');\n",
              "        const dataTable =\n",
              "          await google.colab.kernel.invokeFunction('convertToInteractive',\n",
              "                                                    [key], {});\n",
              "        if (!dataTable) return;\n",
              "\n",
              "        const docLinkHtml = 'Like what you see? Visit the ' +\n",
              "          '<a target=\"_blank\" href=https://colab.research.google.com/notebooks/data_table.ipynb>data table notebook</a>'\n",
              "          + ' to learn more about interactive tables.';\n",
              "        element.innerHTML = '';\n",
              "        dataTable['output_type'] = 'display_data';\n",
              "        await google.colab.output.renderOutput(dataTable, element);\n",
              "        const docLink = document.createElement('div');\n",
              "        docLink.innerHTML = docLinkHtml;\n",
              "        element.appendChild(docLink);\n",
              "      }\n",
              "    </script>\n",
              "  </div>\n",
              "\n",
              "\n",
              "<div id=\"df-efe6b575-11f2-4922-9ec5-b1e442259a44\">\n",
              "  <button class=\"colab-df-quickchart\" onclick=\"quickchart('df-efe6b575-11f2-4922-9ec5-b1e442259a44')\"\n",
              "            title=\"Suggest charts\"\n",
              "            style=\"display:none;\">\n",
              "\n",
              "<svg xmlns=\"http://www.w3.org/2000/svg\" height=\"24px\"viewBox=\"0 0 24 24\"\n",
              "     width=\"24px\">\n",
              "    <g>\n",
              "        <path d=\"M19 3H5c-1.1 0-2 .9-2 2v14c0 1.1.9 2 2 2h14c1.1 0 2-.9 2-2V5c0-1.1-.9-2-2-2zM9 17H7v-7h2v7zm4 0h-2V7h2v10zm4 0h-2v-4h2v4z\"/>\n",
              "    </g>\n",
              "</svg>\n",
              "  </button>\n",
              "\n",
              "<style>\n",
              "  .colab-df-quickchart {\n",
              "      --bg-color: #E8F0FE;\n",
              "      --fill-color: #1967D2;\n",
              "      --hover-bg-color: #E2EBFA;\n",
              "      --hover-fill-color: #174EA6;\n",
              "      --disabled-fill-color: #AAA;\n",
              "      --disabled-bg-color: #DDD;\n",
              "  }\n",
              "\n",
              "  [theme=dark] .colab-df-quickchart {\n",
              "      --bg-color: #3B4455;\n",
              "      --fill-color: #D2E3FC;\n",
              "      --hover-bg-color: #434B5C;\n",
              "      --hover-fill-color: #FFFFFF;\n",
              "      --disabled-bg-color: #3B4455;\n",
              "      --disabled-fill-color: #666;\n",
              "  }\n",
              "\n",
              "  .colab-df-quickchart {\n",
              "    background-color: var(--bg-color);\n",
              "    border: none;\n",
              "    border-radius: 50%;\n",
              "    cursor: pointer;\n",
              "    display: none;\n",
              "    fill: var(--fill-color);\n",
              "    height: 32px;\n",
              "    padding: 0;\n",
              "    width: 32px;\n",
              "  }\n",
              "\n",
              "  .colab-df-quickchart:hover {\n",
              "    background-color: var(--hover-bg-color);\n",
              "    box-shadow: 0 1px 2px rgba(60, 64, 67, 0.3), 0 1px 3px 1px rgba(60, 64, 67, 0.15);\n",
              "    fill: var(--button-hover-fill-color);\n",
              "  }\n",
              "\n",
              "  .colab-df-quickchart-complete:disabled,\n",
              "  .colab-df-quickchart-complete:disabled:hover {\n",
              "    background-color: var(--disabled-bg-color);\n",
              "    fill: var(--disabled-fill-color);\n",
              "    box-shadow: none;\n",
              "  }\n",
              "\n",
              "  .colab-df-spinner {\n",
              "    border: 2px solid var(--fill-color);\n",
              "    border-color: transparent;\n",
              "    border-bottom-color: var(--fill-color);\n",
              "    animation:\n",
              "      spin 1s steps(1) infinite;\n",
              "  }\n",
              "\n",
              "  @keyframes spin {\n",
              "    0% {\n",
              "      border-color: transparent;\n",
              "      border-bottom-color: var(--fill-color);\n",
              "      border-left-color: var(--fill-color);\n",
              "    }\n",
              "    20% {\n",
              "      border-color: transparent;\n",
              "      border-left-color: var(--fill-color);\n",
              "      border-top-color: var(--fill-color);\n",
              "    }\n",
              "    30% {\n",
              "      border-color: transparent;\n",
              "      border-left-color: var(--fill-color);\n",
              "      border-top-color: var(--fill-color);\n",
              "      border-right-color: var(--fill-color);\n",
              "    }\n",
              "    40% {\n",
              "      border-color: transparent;\n",
              "      border-right-color: var(--fill-color);\n",
              "      border-top-color: var(--fill-color);\n",
              "    }\n",
              "    60% {\n",
              "      border-color: transparent;\n",
              "      border-right-color: var(--fill-color);\n",
              "    }\n",
              "    80% {\n",
              "      border-color: transparent;\n",
              "      border-right-color: var(--fill-color);\n",
              "      border-bottom-color: var(--fill-color);\n",
              "    }\n",
              "    90% {\n",
              "      border-color: transparent;\n",
              "      border-bottom-color: var(--fill-color);\n",
              "    }\n",
              "  }\n",
              "</style>\n",
              "\n",
              "  <script>\n",
              "    async function quickchart(key) {\n",
              "      const quickchartButtonEl =\n",
              "        document.querySelector('#' + key + ' button');\n",
              "      quickchartButtonEl.disabled = true;  // To prevent multiple clicks.\n",
              "      quickchartButtonEl.classList.add('colab-df-spinner');\n",
              "      try {\n",
              "        const charts = await google.colab.kernel.invokeFunction(\n",
              "            'suggestCharts', [key], {});\n",
              "      } catch (error) {\n",
              "        console.error('Error during call to suggestCharts:', error);\n",
              "      }\n",
              "      quickchartButtonEl.classList.remove('colab-df-spinner');\n",
              "      quickchartButtonEl.classList.add('colab-df-quickchart-complete');\n",
              "    }\n",
              "    (() => {\n",
              "      let quickchartButtonEl =\n",
              "        document.querySelector('#df-efe6b575-11f2-4922-9ec5-b1e442259a44 button');\n",
              "      quickchartButtonEl.style.display =\n",
              "        google.colab.kernel.accessAllowed ? 'block' : 'none';\n",
              "    })();\n",
              "  </script>\n",
              "</div>\n",
              "\n",
              "  <div id=\"id_a45257a9-1d7d-4250-a8de-e92d498e5d0a\">\n",
              "    <style>\n",
              "      .colab-df-generate {\n",
              "        background-color: #E8F0FE;\n",
              "        border: none;\n",
              "        border-radius: 50%;\n",
              "        cursor: pointer;\n",
              "        display: none;\n",
              "        fill: #1967D2;\n",
              "        height: 32px;\n",
              "        padding: 0 0 0 0;\n",
              "        width: 32px;\n",
              "      }\n",
              "\n",
              "      .colab-df-generate:hover {\n",
              "        background-color: #E2EBFA;\n",
              "        box-shadow: 0px 1px 2px rgba(60, 64, 67, 0.3), 0px 1px 3px 1px rgba(60, 64, 67, 0.15);\n",
              "        fill: #174EA6;\n",
              "      }\n",
              "\n",
              "      [theme=dark] .colab-df-generate {\n",
              "        background-color: #3B4455;\n",
              "        fill: #D2E3FC;\n",
              "      }\n",
              "\n",
              "      [theme=dark] .colab-df-generate:hover {\n",
              "        background-color: #434B5C;\n",
              "        box-shadow: 0px 1px 3px 1px rgba(0, 0, 0, 0.15);\n",
              "        filter: drop-shadow(0px 1px 2px rgba(0, 0, 0, 0.3));\n",
              "        fill: #FFFFFF;\n",
              "      }\n",
              "    </style>\n",
              "    <button class=\"colab-df-generate\" onclick=\"generateWithVariable('zero_initializer_df')\"\n",
              "            title=\"Generate code using this dataframe.\"\n",
              "            style=\"display:none;\">\n",
              "\n",
              "  <svg xmlns=\"http://www.w3.org/2000/svg\" height=\"24px\"viewBox=\"0 0 24 24\"\n",
              "       width=\"24px\">\n",
              "    <path d=\"M7,19H8.4L18.45,9,17,7.55,7,17.6ZM5,21V16.75L18.45,3.32a2,2,0,0,1,2.83,0l1.4,1.43a1.91,1.91,0,0,1,.58,1.4,1.91,1.91,0,0,1-.58,1.4L9.25,21ZM18.45,9,17,7.55Zm-12,3A5.31,5.31,0,0,0,4.9,8.1,5.31,5.31,0,0,0,1,6.5,5.31,5.31,0,0,0,4.9,4.9,5.31,5.31,0,0,0,6.5,1,5.31,5.31,0,0,0,8.1,4.9,5.31,5.31,0,0,0,12,6.5,5.46,5.46,0,0,0,6.5,12Z\"/>\n",
              "  </svg>\n",
              "    </button>\n",
              "    <script>\n",
              "      (() => {\n",
              "      const buttonEl =\n",
              "        document.querySelector('#id_a45257a9-1d7d-4250-a8de-e92d498e5d0a button.colab-df-generate');\n",
              "      buttonEl.style.display =\n",
              "        google.colab.kernel.accessAllowed ? 'block' : 'none';\n",
              "\n",
              "      buttonEl.onclick = () => {\n",
              "        google.colab.notebook.generateWithVariable('zero_initializer_df');\n",
              "      }\n",
              "      })();\n",
              "    </script>\n",
              "  </div>\n",
              "\n",
              "    </div>\n",
              "  </div>\n"
            ],
            "application/vnd.google.colaboratory.intrinsic+json": {
              "type": "dataframe",
              "variable_name": "zero_initializer_df",
              "summary": "{\n  \"name\": \"zero_initializer_df\",\n  \"rows\": 10,\n  \"fields\": [\n    {\n      \"column\": \"accuracy\",\n      \"properties\": {\n        \"dtype\": \"number\",\n        \"std\": 0.0002710529201749049,\n        \"min\": 0.11152380704879761,\n        \"max\": 0.11238095164299011,\n        \"num_unique_values\": 2,\n        \"samples\": [\n          0.11238095164299011,\n          0.11152380704879761\n        ],\n        \"semantic_type\": \"\",\n        \"description\": \"\"\n      }\n    },\n    {\n      \"column\": \"loss\",\n      \"properties\": {\n        \"dtype\": \"number\",\n        \"std\": 7.262504564372638e-05,\n        \"min\": 2.301342010498047,\n        \"max\": 2.3016045093536377,\n        \"num_unique_values\": 10,\n        \"samples\": [\n          2.3013927936553955,\n          2.301407814025879\n        ],\n        \"semantic_type\": \"\",\n        \"description\": \"\"\n      }\n    },\n    {\n      \"column\": \"val_accuracy\",\n      \"properties\": {\n        \"dtype\": \"number\",\n        \"std\": 0.0,\n        \"min\": 0.1122666671872139,\n        \"max\": 0.1122666671872139,\n        \"num_unique_values\": 1,\n        \"samples\": [\n          0.1122666671872139\n        ],\n        \"semantic_type\": \"\",\n        \"description\": \"\"\n      }\n    },\n    {\n      \"column\": \"val_loss\",\n      \"properties\": {\n        \"dtype\": \"number\",\n        \"std\": 9.421306905885906e-05,\n        \"min\": 2.300849199295044,\n        \"max\": 2.3011314868927,\n        \"num_unique_values\": 10,\n        \"samples\": [\n          2.301072359085083\n        ],\n        \"semantic_type\": \"\",\n        \"description\": \"\"\n      }\n    }\n  ]\n}"
            }
          },
          "metadata": {},
          "execution_count": 19
        }
      ]
    },
    {
      "cell_type": "code",
      "source": [
        "random_uniform_initializer_df"
      ],
      "metadata": {
        "colab": {
          "base_uri": "https://localhost:8080/",
          "height": 363
        },
        "id": "WePvvJlZ9Lvf",
        "outputId": "57f48842-33b9-41e2-f9e0-3c69160670f4"
      },
      "execution_count": 20,
      "outputs": [
        {
          "output_type": "execute_result",
          "data": {
            "text/plain": [
              "   accuracy      loss  val_accuracy  val_loss\n",
              "0  0.919657  0.273736      0.961867  0.134699\n",
              "1  0.967943  0.102159      0.968667  0.108958\n",
              "2  0.978838  0.066642      0.968933  0.102085\n",
              "3  0.983200  0.050660      0.977200  0.080230\n",
              "4  0.988381  0.036547      0.978800  0.078874\n",
              "5  0.989848  0.031248      0.977600  0.085065\n",
              "6  0.991371  0.025815      0.977733  0.084986\n",
              "7  0.993067  0.020434      0.979333  0.088593\n",
              "8  0.993714  0.017830      0.978000  0.095486\n",
              "9  0.994971  0.015025      0.975200  0.126037"
            ],
            "text/html": [
              "\n",
              "  <div id=\"df-23f12d23-d812-4390-94a4-c4ac55170d65\" class=\"colab-df-container\">\n",
              "    <div>\n",
              "<style scoped>\n",
              "    .dataframe tbody tr th:only-of-type {\n",
              "        vertical-align: middle;\n",
              "    }\n",
              "\n",
              "    .dataframe tbody tr th {\n",
              "        vertical-align: top;\n",
              "    }\n",
              "\n",
              "    .dataframe thead th {\n",
              "        text-align: right;\n",
              "    }\n",
              "</style>\n",
              "<table border=\"1\" class=\"dataframe\">\n",
              "  <thead>\n",
              "    <tr style=\"text-align: right;\">\n",
              "      <th></th>\n",
              "      <th>accuracy</th>\n",
              "      <th>loss</th>\n",
              "      <th>val_accuracy</th>\n",
              "      <th>val_loss</th>\n",
              "    </tr>\n",
              "  </thead>\n",
              "  <tbody>\n",
              "    <tr>\n",
              "      <th>0</th>\n",
              "      <td>0.919657</td>\n",
              "      <td>0.273736</td>\n",
              "      <td>0.961867</td>\n",
              "      <td>0.134699</td>\n",
              "    </tr>\n",
              "    <tr>\n",
              "      <th>1</th>\n",
              "      <td>0.967943</td>\n",
              "      <td>0.102159</td>\n",
              "      <td>0.968667</td>\n",
              "      <td>0.108958</td>\n",
              "    </tr>\n",
              "    <tr>\n",
              "      <th>2</th>\n",
              "      <td>0.978838</td>\n",
              "      <td>0.066642</td>\n",
              "      <td>0.968933</td>\n",
              "      <td>0.102085</td>\n",
              "    </tr>\n",
              "    <tr>\n",
              "      <th>3</th>\n",
              "      <td>0.983200</td>\n",
              "      <td>0.050660</td>\n",
              "      <td>0.977200</td>\n",
              "      <td>0.080230</td>\n",
              "    </tr>\n",
              "    <tr>\n",
              "      <th>4</th>\n",
              "      <td>0.988381</td>\n",
              "      <td>0.036547</td>\n",
              "      <td>0.978800</td>\n",
              "      <td>0.078874</td>\n",
              "    </tr>\n",
              "    <tr>\n",
              "      <th>5</th>\n",
              "      <td>0.989848</td>\n",
              "      <td>0.031248</td>\n",
              "      <td>0.977600</td>\n",
              "      <td>0.085065</td>\n",
              "    </tr>\n",
              "    <tr>\n",
              "      <th>6</th>\n",
              "      <td>0.991371</td>\n",
              "      <td>0.025815</td>\n",
              "      <td>0.977733</td>\n",
              "      <td>0.084986</td>\n",
              "    </tr>\n",
              "    <tr>\n",
              "      <th>7</th>\n",
              "      <td>0.993067</td>\n",
              "      <td>0.020434</td>\n",
              "      <td>0.979333</td>\n",
              "      <td>0.088593</td>\n",
              "    </tr>\n",
              "    <tr>\n",
              "      <th>8</th>\n",
              "      <td>0.993714</td>\n",
              "      <td>0.017830</td>\n",
              "      <td>0.978000</td>\n",
              "      <td>0.095486</td>\n",
              "    </tr>\n",
              "    <tr>\n",
              "      <th>9</th>\n",
              "      <td>0.994971</td>\n",
              "      <td>0.015025</td>\n",
              "      <td>0.975200</td>\n",
              "      <td>0.126037</td>\n",
              "    </tr>\n",
              "  </tbody>\n",
              "</table>\n",
              "</div>\n",
              "    <div class=\"colab-df-buttons\">\n",
              "\n",
              "  <div class=\"colab-df-container\">\n",
              "    <button class=\"colab-df-convert\" onclick=\"convertToInteractive('df-23f12d23-d812-4390-94a4-c4ac55170d65')\"\n",
              "            title=\"Convert this dataframe to an interactive table.\"\n",
              "            style=\"display:none;\">\n",
              "\n",
              "  <svg xmlns=\"http://www.w3.org/2000/svg\" height=\"24px\" viewBox=\"0 -960 960 960\">\n",
              "    <path d=\"M120-120v-720h720v720H120Zm60-500h600v-160H180v160Zm220 220h160v-160H400v160Zm0 220h160v-160H400v160ZM180-400h160v-160H180v160Zm440 0h160v-160H620v160ZM180-180h160v-160H180v160Zm440 0h160v-160H620v160Z\"/>\n",
              "  </svg>\n",
              "    </button>\n",
              "\n",
              "  <style>\n",
              "    .colab-df-container {\n",
              "      display:flex;\n",
              "      gap: 12px;\n",
              "    }\n",
              "\n",
              "    .colab-df-convert {\n",
              "      background-color: #E8F0FE;\n",
              "      border: none;\n",
              "      border-radius: 50%;\n",
              "      cursor: pointer;\n",
              "      display: none;\n",
              "      fill: #1967D2;\n",
              "      height: 32px;\n",
              "      padding: 0 0 0 0;\n",
              "      width: 32px;\n",
              "    }\n",
              "\n",
              "    .colab-df-convert:hover {\n",
              "      background-color: #E2EBFA;\n",
              "      box-shadow: 0px 1px 2px rgba(60, 64, 67, 0.3), 0px 1px 3px 1px rgba(60, 64, 67, 0.15);\n",
              "      fill: #174EA6;\n",
              "    }\n",
              "\n",
              "    .colab-df-buttons div {\n",
              "      margin-bottom: 4px;\n",
              "    }\n",
              "\n",
              "    [theme=dark] .colab-df-convert {\n",
              "      background-color: #3B4455;\n",
              "      fill: #D2E3FC;\n",
              "    }\n",
              "\n",
              "    [theme=dark] .colab-df-convert:hover {\n",
              "      background-color: #434B5C;\n",
              "      box-shadow: 0px 1px 3px 1px rgba(0, 0, 0, 0.15);\n",
              "      filter: drop-shadow(0px 1px 2px rgba(0, 0, 0, 0.3));\n",
              "      fill: #FFFFFF;\n",
              "    }\n",
              "  </style>\n",
              "\n",
              "    <script>\n",
              "      const buttonEl =\n",
              "        document.querySelector('#df-23f12d23-d812-4390-94a4-c4ac55170d65 button.colab-df-convert');\n",
              "      buttonEl.style.display =\n",
              "        google.colab.kernel.accessAllowed ? 'block' : 'none';\n",
              "\n",
              "      async function convertToInteractive(key) {\n",
              "        const element = document.querySelector('#df-23f12d23-d812-4390-94a4-c4ac55170d65');\n",
              "        const dataTable =\n",
              "          await google.colab.kernel.invokeFunction('convertToInteractive',\n",
              "                                                    [key], {});\n",
              "        if (!dataTable) return;\n",
              "\n",
              "        const docLinkHtml = 'Like what you see? Visit the ' +\n",
              "          '<a target=\"_blank\" href=https://colab.research.google.com/notebooks/data_table.ipynb>data table notebook</a>'\n",
              "          + ' to learn more about interactive tables.';\n",
              "        element.innerHTML = '';\n",
              "        dataTable['output_type'] = 'display_data';\n",
              "        await google.colab.output.renderOutput(dataTable, element);\n",
              "        const docLink = document.createElement('div');\n",
              "        docLink.innerHTML = docLinkHtml;\n",
              "        element.appendChild(docLink);\n",
              "      }\n",
              "    </script>\n",
              "  </div>\n",
              "\n",
              "\n",
              "<div id=\"df-b8639ff5-5ebf-41a1-a287-92ae272c0ed8\">\n",
              "  <button class=\"colab-df-quickchart\" onclick=\"quickchart('df-b8639ff5-5ebf-41a1-a287-92ae272c0ed8')\"\n",
              "            title=\"Suggest charts\"\n",
              "            style=\"display:none;\">\n",
              "\n",
              "<svg xmlns=\"http://www.w3.org/2000/svg\" height=\"24px\"viewBox=\"0 0 24 24\"\n",
              "     width=\"24px\">\n",
              "    <g>\n",
              "        <path d=\"M19 3H5c-1.1 0-2 .9-2 2v14c0 1.1.9 2 2 2h14c1.1 0 2-.9 2-2V5c0-1.1-.9-2-2-2zM9 17H7v-7h2v7zm4 0h-2V7h2v10zm4 0h-2v-4h2v4z\"/>\n",
              "    </g>\n",
              "</svg>\n",
              "  </button>\n",
              "\n",
              "<style>\n",
              "  .colab-df-quickchart {\n",
              "      --bg-color: #E8F0FE;\n",
              "      --fill-color: #1967D2;\n",
              "      --hover-bg-color: #E2EBFA;\n",
              "      --hover-fill-color: #174EA6;\n",
              "      --disabled-fill-color: #AAA;\n",
              "      --disabled-bg-color: #DDD;\n",
              "  }\n",
              "\n",
              "  [theme=dark] .colab-df-quickchart {\n",
              "      --bg-color: #3B4455;\n",
              "      --fill-color: #D2E3FC;\n",
              "      --hover-bg-color: #434B5C;\n",
              "      --hover-fill-color: #FFFFFF;\n",
              "      --disabled-bg-color: #3B4455;\n",
              "      --disabled-fill-color: #666;\n",
              "  }\n",
              "\n",
              "  .colab-df-quickchart {\n",
              "    background-color: var(--bg-color);\n",
              "    border: none;\n",
              "    border-radius: 50%;\n",
              "    cursor: pointer;\n",
              "    display: none;\n",
              "    fill: var(--fill-color);\n",
              "    height: 32px;\n",
              "    padding: 0;\n",
              "    width: 32px;\n",
              "  }\n",
              "\n",
              "  .colab-df-quickchart:hover {\n",
              "    background-color: var(--hover-bg-color);\n",
              "    box-shadow: 0 1px 2px rgba(60, 64, 67, 0.3), 0 1px 3px 1px rgba(60, 64, 67, 0.15);\n",
              "    fill: var(--button-hover-fill-color);\n",
              "  }\n",
              "\n",
              "  .colab-df-quickchart-complete:disabled,\n",
              "  .colab-df-quickchart-complete:disabled:hover {\n",
              "    background-color: var(--disabled-bg-color);\n",
              "    fill: var(--disabled-fill-color);\n",
              "    box-shadow: none;\n",
              "  }\n",
              "\n",
              "  .colab-df-spinner {\n",
              "    border: 2px solid var(--fill-color);\n",
              "    border-color: transparent;\n",
              "    border-bottom-color: var(--fill-color);\n",
              "    animation:\n",
              "      spin 1s steps(1) infinite;\n",
              "  }\n",
              "\n",
              "  @keyframes spin {\n",
              "    0% {\n",
              "      border-color: transparent;\n",
              "      border-bottom-color: var(--fill-color);\n",
              "      border-left-color: var(--fill-color);\n",
              "    }\n",
              "    20% {\n",
              "      border-color: transparent;\n",
              "      border-left-color: var(--fill-color);\n",
              "      border-top-color: var(--fill-color);\n",
              "    }\n",
              "    30% {\n",
              "      border-color: transparent;\n",
              "      border-left-color: var(--fill-color);\n",
              "      border-top-color: var(--fill-color);\n",
              "      border-right-color: var(--fill-color);\n",
              "    }\n",
              "    40% {\n",
              "      border-color: transparent;\n",
              "      border-right-color: var(--fill-color);\n",
              "      border-top-color: var(--fill-color);\n",
              "    }\n",
              "    60% {\n",
              "      border-color: transparent;\n",
              "      border-right-color: var(--fill-color);\n",
              "    }\n",
              "    80% {\n",
              "      border-color: transparent;\n",
              "      border-right-color: var(--fill-color);\n",
              "      border-bottom-color: var(--fill-color);\n",
              "    }\n",
              "    90% {\n",
              "      border-color: transparent;\n",
              "      border-bottom-color: var(--fill-color);\n",
              "    }\n",
              "  }\n",
              "</style>\n",
              "\n",
              "  <script>\n",
              "    async function quickchart(key) {\n",
              "      const quickchartButtonEl =\n",
              "        document.querySelector('#' + key + ' button');\n",
              "      quickchartButtonEl.disabled = true;  // To prevent multiple clicks.\n",
              "      quickchartButtonEl.classList.add('colab-df-spinner');\n",
              "      try {\n",
              "        const charts = await google.colab.kernel.invokeFunction(\n",
              "            'suggestCharts', [key], {});\n",
              "      } catch (error) {\n",
              "        console.error('Error during call to suggestCharts:', error);\n",
              "      }\n",
              "      quickchartButtonEl.classList.remove('colab-df-spinner');\n",
              "      quickchartButtonEl.classList.add('colab-df-quickchart-complete');\n",
              "    }\n",
              "    (() => {\n",
              "      let quickchartButtonEl =\n",
              "        document.querySelector('#df-b8639ff5-5ebf-41a1-a287-92ae272c0ed8 button');\n",
              "      quickchartButtonEl.style.display =\n",
              "        google.colab.kernel.accessAllowed ? 'block' : 'none';\n",
              "    })();\n",
              "  </script>\n",
              "</div>\n",
              "\n",
              "  <div id=\"id_1073a8aa-1c61-427b-b876-95f2475dd498\">\n",
              "    <style>\n",
              "      .colab-df-generate {\n",
              "        background-color: #E8F0FE;\n",
              "        border: none;\n",
              "        border-radius: 50%;\n",
              "        cursor: pointer;\n",
              "        display: none;\n",
              "        fill: #1967D2;\n",
              "        height: 32px;\n",
              "        padding: 0 0 0 0;\n",
              "        width: 32px;\n",
              "      }\n",
              "\n",
              "      .colab-df-generate:hover {\n",
              "        background-color: #E2EBFA;\n",
              "        box-shadow: 0px 1px 2px rgba(60, 64, 67, 0.3), 0px 1px 3px 1px rgba(60, 64, 67, 0.15);\n",
              "        fill: #174EA6;\n",
              "      }\n",
              "\n",
              "      [theme=dark] .colab-df-generate {\n",
              "        background-color: #3B4455;\n",
              "        fill: #D2E3FC;\n",
              "      }\n",
              "\n",
              "      [theme=dark] .colab-df-generate:hover {\n",
              "        background-color: #434B5C;\n",
              "        box-shadow: 0px 1px 3px 1px rgba(0, 0, 0, 0.15);\n",
              "        filter: drop-shadow(0px 1px 2px rgba(0, 0, 0, 0.3));\n",
              "        fill: #FFFFFF;\n",
              "      }\n",
              "    </style>\n",
              "    <button class=\"colab-df-generate\" onclick=\"generateWithVariable('random_uniform_initializer_df')\"\n",
              "            title=\"Generate code using this dataframe.\"\n",
              "            style=\"display:none;\">\n",
              "\n",
              "  <svg xmlns=\"http://www.w3.org/2000/svg\" height=\"24px\"viewBox=\"0 0 24 24\"\n",
              "       width=\"24px\">\n",
              "    <path d=\"M7,19H8.4L18.45,9,17,7.55,7,17.6ZM5,21V16.75L18.45,3.32a2,2,0,0,1,2.83,0l1.4,1.43a1.91,1.91,0,0,1,.58,1.4,1.91,1.91,0,0,1-.58,1.4L9.25,21ZM18.45,9,17,7.55Zm-12,3A5.31,5.31,0,0,0,4.9,8.1,5.31,5.31,0,0,0,1,6.5,5.31,5.31,0,0,0,4.9,4.9,5.31,5.31,0,0,0,6.5,1,5.31,5.31,0,0,0,8.1,4.9,5.31,5.31,0,0,0,12,6.5,5.46,5.46,0,0,0,6.5,12Z\"/>\n",
              "  </svg>\n",
              "    </button>\n",
              "    <script>\n",
              "      (() => {\n",
              "      const buttonEl =\n",
              "        document.querySelector('#id_1073a8aa-1c61-427b-b876-95f2475dd498 button.colab-df-generate');\n",
              "      buttonEl.style.display =\n",
              "        google.colab.kernel.accessAllowed ? 'block' : 'none';\n",
              "\n",
              "      buttonEl.onclick = () => {\n",
              "        google.colab.notebook.generateWithVariable('random_uniform_initializer_df');\n",
              "      }\n",
              "      })();\n",
              "    </script>\n",
              "  </div>\n",
              "\n",
              "    </div>\n",
              "  </div>\n"
            ],
            "application/vnd.google.colaboratory.intrinsic+json": {
              "type": "dataframe",
              "variable_name": "random_uniform_initializer_df",
              "summary": "{\n  \"name\": \"random_uniform_initializer_df\",\n  \"rows\": 10,\n  \"fields\": [\n    {\n      \"column\": \"accuracy\",\n      \"properties\": {\n        \"dtype\": \"number\",\n        \"std\": 0.022797694005350904,\n        \"min\": 0.9196571707725525,\n        \"max\": 0.9949714541435242,\n        \"num_unique_values\": 10,\n        \"samples\": [\n          0.9937142729759216,\n          0.9679428339004517,\n          0.9898476004600525\n        ],\n        \"semantic_type\": \"\",\n        \"description\": \"\"\n      }\n    },\n    {\n      \"column\": \"loss\",\n      \"properties\": {\n        \"dtype\": \"number\",\n        \"std\": 0.07841683127243923,\n        \"min\": 0.015024533495306969,\n        \"max\": 0.2737357020378113,\n        \"num_unique_values\": 10,\n        \"samples\": [\n          0.017830170691013336,\n          0.10215891152620316,\n          0.031248485669493675\n        ],\n        \"semantic_type\": \"\",\n        \"description\": \"\"\n      }\n    },\n    {\n      \"column\": \"val_accuracy\",\n      \"properties\": {\n        \"dtype\": \"number\",\n        \"std\": 0.005833652645492464,\n        \"min\": 0.9618666768074036,\n        \"max\": 0.9793333411216736,\n        \"num_unique_values\": 10,\n        \"samples\": [\n          0.9779999852180481,\n          0.968666672706604,\n          0.9775999784469604\n        ],\n        \"semantic_type\": \"\",\n        \"description\": \"\"\n      }\n    },\n    {\n      \"column\": \"val_loss\",\n      \"properties\": {\n        \"dtype\": \"number\",\n        \"std\": 0.019379837315272812,\n        \"min\": 0.07887423038482666,\n        \"max\": 0.1346990019083023,\n        \"num_unique_values\": 10,\n        \"samples\": [\n          0.09548641741275787,\n          0.10895832628011703,\n          0.08506488800048828\n        ],\n        \"semantic_type\": \"\",\n        \"description\": \"\"\n      }\n    }\n  ]\n}"
            }
          },
          "metadata": {},
          "execution_count": 20
        }
      ]
    },
    {
      "cell_type": "code",
      "source": [
        "glorot_normal_initializer_df"
      ],
      "metadata": {
        "colab": {
          "base_uri": "https://localhost:8080/",
          "height": 363
        },
        "id": "a2nQsF0u9OPX",
        "outputId": "1fc0be22-ed1e-4325-e11e-85ee3eec40f8"
      },
      "execution_count": 21,
      "outputs": [
        {
          "output_type": "execute_result",
          "data": {
            "text/plain": [
              "   accuracy      loss  val_accuracy  val_loss\n",
              "0  0.934648  0.216870      0.964400  0.116079\n",
              "1  0.972533  0.088098      0.972000  0.095047\n",
              "2  0.981181  0.058856      0.972800  0.094874\n",
              "3  0.985143  0.045062      0.975067  0.085777\n",
              "4  0.989771  0.031905      0.974133  0.091170\n",
              "5  0.990133  0.029630      0.973600  0.095867\n",
              "6  0.992057  0.023170      0.976800  0.096136\n",
              "7  0.992819  0.021647      0.981067  0.084624\n",
              "8  0.994190  0.016986      0.976267  0.101416\n",
              "9  0.994590  0.016913      0.980000  0.090463"
            ],
            "text/html": [
              "\n",
              "  <div id=\"df-dbb0b6ff-4959-4f99-b6a9-e98da10e541e\" class=\"colab-df-container\">\n",
              "    <div>\n",
              "<style scoped>\n",
              "    .dataframe tbody tr th:only-of-type {\n",
              "        vertical-align: middle;\n",
              "    }\n",
              "\n",
              "    .dataframe tbody tr th {\n",
              "        vertical-align: top;\n",
              "    }\n",
              "\n",
              "    .dataframe thead th {\n",
              "        text-align: right;\n",
              "    }\n",
              "</style>\n",
              "<table border=\"1\" class=\"dataframe\">\n",
              "  <thead>\n",
              "    <tr style=\"text-align: right;\">\n",
              "      <th></th>\n",
              "      <th>accuracy</th>\n",
              "      <th>loss</th>\n",
              "      <th>val_accuracy</th>\n",
              "      <th>val_loss</th>\n",
              "    </tr>\n",
              "  </thead>\n",
              "  <tbody>\n",
              "    <tr>\n",
              "      <th>0</th>\n",
              "      <td>0.934648</td>\n",
              "      <td>0.216870</td>\n",
              "      <td>0.964400</td>\n",
              "      <td>0.116079</td>\n",
              "    </tr>\n",
              "    <tr>\n",
              "      <th>1</th>\n",
              "      <td>0.972533</td>\n",
              "      <td>0.088098</td>\n",
              "      <td>0.972000</td>\n",
              "      <td>0.095047</td>\n",
              "    </tr>\n",
              "    <tr>\n",
              "      <th>2</th>\n",
              "      <td>0.981181</td>\n",
              "      <td>0.058856</td>\n",
              "      <td>0.972800</td>\n",
              "      <td>0.094874</td>\n",
              "    </tr>\n",
              "    <tr>\n",
              "      <th>3</th>\n",
              "      <td>0.985143</td>\n",
              "      <td>0.045062</td>\n",
              "      <td>0.975067</td>\n",
              "      <td>0.085777</td>\n",
              "    </tr>\n",
              "    <tr>\n",
              "      <th>4</th>\n",
              "      <td>0.989771</td>\n",
              "      <td>0.031905</td>\n",
              "      <td>0.974133</td>\n",
              "      <td>0.091170</td>\n",
              "    </tr>\n",
              "    <tr>\n",
              "      <th>5</th>\n",
              "      <td>0.990133</td>\n",
              "      <td>0.029630</td>\n",
              "      <td>0.973600</td>\n",
              "      <td>0.095867</td>\n",
              "    </tr>\n",
              "    <tr>\n",
              "      <th>6</th>\n",
              "      <td>0.992057</td>\n",
              "      <td>0.023170</td>\n",
              "      <td>0.976800</td>\n",
              "      <td>0.096136</td>\n",
              "    </tr>\n",
              "    <tr>\n",
              "      <th>7</th>\n",
              "      <td>0.992819</td>\n",
              "      <td>0.021647</td>\n",
              "      <td>0.981067</td>\n",
              "      <td>0.084624</td>\n",
              "    </tr>\n",
              "    <tr>\n",
              "      <th>8</th>\n",
              "      <td>0.994190</td>\n",
              "      <td>0.016986</td>\n",
              "      <td>0.976267</td>\n",
              "      <td>0.101416</td>\n",
              "    </tr>\n",
              "    <tr>\n",
              "      <th>9</th>\n",
              "      <td>0.994590</td>\n",
              "      <td>0.016913</td>\n",
              "      <td>0.980000</td>\n",
              "      <td>0.090463</td>\n",
              "    </tr>\n",
              "  </tbody>\n",
              "</table>\n",
              "</div>\n",
              "    <div class=\"colab-df-buttons\">\n",
              "\n",
              "  <div class=\"colab-df-container\">\n",
              "    <button class=\"colab-df-convert\" onclick=\"convertToInteractive('df-dbb0b6ff-4959-4f99-b6a9-e98da10e541e')\"\n",
              "            title=\"Convert this dataframe to an interactive table.\"\n",
              "            style=\"display:none;\">\n",
              "\n",
              "  <svg xmlns=\"http://www.w3.org/2000/svg\" height=\"24px\" viewBox=\"0 -960 960 960\">\n",
              "    <path d=\"M120-120v-720h720v720H120Zm60-500h600v-160H180v160Zm220 220h160v-160H400v160Zm0 220h160v-160H400v160ZM180-400h160v-160H180v160Zm440 0h160v-160H620v160ZM180-180h160v-160H180v160Zm440 0h160v-160H620v160Z\"/>\n",
              "  </svg>\n",
              "    </button>\n",
              "\n",
              "  <style>\n",
              "    .colab-df-container {\n",
              "      display:flex;\n",
              "      gap: 12px;\n",
              "    }\n",
              "\n",
              "    .colab-df-convert {\n",
              "      background-color: #E8F0FE;\n",
              "      border: none;\n",
              "      border-radius: 50%;\n",
              "      cursor: pointer;\n",
              "      display: none;\n",
              "      fill: #1967D2;\n",
              "      height: 32px;\n",
              "      padding: 0 0 0 0;\n",
              "      width: 32px;\n",
              "    }\n",
              "\n",
              "    .colab-df-convert:hover {\n",
              "      background-color: #E2EBFA;\n",
              "      box-shadow: 0px 1px 2px rgba(60, 64, 67, 0.3), 0px 1px 3px 1px rgba(60, 64, 67, 0.15);\n",
              "      fill: #174EA6;\n",
              "    }\n",
              "\n",
              "    .colab-df-buttons div {\n",
              "      margin-bottom: 4px;\n",
              "    }\n",
              "\n",
              "    [theme=dark] .colab-df-convert {\n",
              "      background-color: #3B4455;\n",
              "      fill: #D2E3FC;\n",
              "    }\n",
              "\n",
              "    [theme=dark] .colab-df-convert:hover {\n",
              "      background-color: #434B5C;\n",
              "      box-shadow: 0px 1px 3px 1px rgba(0, 0, 0, 0.15);\n",
              "      filter: drop-shadow(0px 1px 2px rgba(0, 0, 0, 0.3));\n",
              "      fill: #FFFFFF;\n",
              "    }\n",
              "  </style>\n",
              "\n",
              "    <script>\n",
              "      const buttonEl =\n",
              "        document.querySelector('#df-dbb0b6ff-4959-4f99-b6a9-e98da10e541e button.colab-df-convert');\n",
              "      buttonEl.style.display =\n",
              "        google.colab.kernel.accessAllowed ? 'block' : 'none';\n",
              "\n",
              "      async function convertToInteractive(key) {\n",
              "        const element = document.querySelector('#df-dbb0b6ff-4959-4f99-b6a9-e98da10e541e');\n",
              "        const dataTable =\n",
              "          await google.colab.kernel.invokeFunction('convertToInteractive',\n",
              "                                                    [key], {});\n",
              "        if (!dataTable) return;\n",
              "\n",
              "        const docLinkHtml = 'Like what you see? Visit the ' +\n",
              "          '<a target=\"_blank\" href=https://colab.research.google.com/notebooks/data_table.ipynb>data table notebook</a>'\n",
              "          + ' to learn more about interactive tables.';\n",
              "        element.innerHTML = '';\n",
              "        dataTable['output_type'] = 'display_data';\n",
              "        await google.colab.output.renderOutput(dataTable, element);\n",
              "        const docLink = document.createElement('div');\n",
              "        docLink.innerHTML = docLinkHtml;\n",
              "        element.appendChild(docLink);\n",
              "      }\n",
              "    </script>\n",
              "  </div>\n",
              "\n",
              "\n",
              "<div id=\"df-d33b4ae1-44ed-45fe-b4b4-80a119734c41\">\n",
              "  <button class=\"colab-df-quickchart\" onclick=\"quickchart('df-d33b4ae1-44ed-45fe-b4b4-80a119734c41')\"\n",
              "            title=\"Suggest charts\"\n",
              "            style=\"display:none;\">\n",
              "\n",
              "<svg xmlns=\"http://www.w3.org/2000/svg\" height=\"24px\"viewBox=\"0 0 24 24\"\n",
              "     width=\"24px\">\n",
              "    <g>\n",
              "        <path d=\"M19 3H5c-1.1 0-2 .9-2 2v14c0 1.1.9 2 2 2h14c1.1 0 2-.9 2-2V5c0-1.1-.9-2-2-2zM9 17H7v-7h2v7zm4 0h-2V7h2v10zm4 0h-2v-4h2v4z\"/>\n",
              "    </g>\n",
              "</svg>\n",
              "  </button>\n",
              "\n",
              "<style>\n",
              "  .colab-df-quickchart {\n",
              "      --bg-color: #E8F0FE;\n",
              "      --fill-color: #1967D2;\n",
              "      --hover-bg-color: #E2EBFA;\n",
              "      --hover-fill-color: #174EA6;\n",
              "      --disabled-fill-color: #AAA;\n",
              "      --disabled-bg-color: #DDD;\n",
              "  }\n",
              "\n",
              "  [theme=dark] .colab-df-quickchart {\n",
              "      --bg-color: #3B4455;\n",
              "      --fill-color: #D2E3FC;\n",
              "      --hover-bg-color: #434B5C;\n",
              "      --hover-fill-color: #FFFFFF;\n",
              "      --disabled-bg-color: #3B4455;\n",
              "      --disabled-fill-color: #666;\n",
              "  }\n",
              "\n",
              "  .colab-df-quickchart {\n",
              "    background-color: var(--bg-color);\n",
              "    border: none;\n",
              "    border-radius: 50%;\n",
              "    cursor: pointer;\n",
              "    display: none;\n",
              "    fill: var(--fill-color);\n",
              "    height: 32px;\n",
              "    padding: 0;\n",
              "    width: 32px;\n",
              "  }\n",
              "\n",
              "  .colab-df-quickchart:hover {\n",
              "    background-color: var(--hover-bg-color);\n",
              "    box-shadow: 0 1px 2px rgba(60, 64, 67, 0.3), 0 1px 3px 1px rgba(60, 64, 67, 0.15);\n",
              "    fill: var(--button-hover-fill-color);\n",
              "  }\n",
              "\n",
              "  .colab-df-quickchart-complete:disabled,\n",
              "  .colab-df-quickchart-complete:disabled:hover {\n",
              "    background-color: var(--disabled-bg-color);\n",
              "    fill: var(--disabled-fill-color);\n",
              "    box-shadow: none;\n",
              "  }\n",
              "\n",
              "  .colab-df-spinner {\n",
              "    border: 2px solid var(--fill-color);\n",
              "    border-color: transparent;\n",
              "    border-bottom-color: var(--fill-color);\n",
              "    animation:\n",
              "      spin 1s steps(1) infinite;\n",
              "  }\n",
              "\n",
              "  @keyframes spin {\n",
              "    0% {\n",
              "      border-color: transparent;\n",
              "      border-bottom-color: var(--fill-color);\n",
              "      border-left-color: var(--fill-color);\n",
              "    }\n",
              "    20% {\n",
              "      border-color: transparent;\n",
              "      border-left-color: var(--fill-color);\n",
              "      border-top-color: var(--fill-color);\n",
              "    }\n",
              "    30% {\n",
              "      border-color: transparent;\n",
              "      border-left-color: var(--fill-color);\n",
              "      border-top-color: var(--fill-color);\n",
              "      border-right-color: var(--fill-color);\n",
              "    }\n",
              "    40% {\n",
              "      border-color: transparent;\n",
              "      border-right-color: var(--fill-color);\n",
              "      border-top-color: var(--fill-color);\n",
              "    }\n",
              "    60% {\n",
              "      border-color: transparent;\n",
              "      border-right-color: var(--fill-color);\n",
              "    }\n",
              "    80% {\n",
              "      border-color: transparent;\n",
              "      border-right-color: var(--fill-color);\n",
              "      border-bottom-color: var(--fill-color);\n",
              "    }\n",
              "    90% {\n",
              "      border-color: transparent;\n",
              "      border-bottom-color: var(--fill-color);\n",
              "    }\n",
              "  }\n",
              "</style>\n",
              "\n",
              "  <script>\n",
              "    async function quickchart(key) {\n",
              "      const quickchartButtonEl =\n",
              "        document.querySelector('#' + key + ' button');\n",
              "      quickchartButtonEl.disabled = true;  // To prevent multiple clicks.\n",
              "      quickchartButtonEl.classList.add('colab-df-spinner');\n",
              "      try {\n",
              "        const charts = await google.colab.kernel.invokeFunction(\n",
              "            'suggestCharts', [key], {});\n",
              "      } catch (error) {\n",
              "        console.error('Error during call to suggestCharts:', error);\n",
              "      }\n",
              "      quickchartButtonEl.classList.remove('colab-df-spinner');\n",
              "      quickchartButtonEl.classList.add('colab-df-quickchart-complete');\n",
              "    }\n",
              "    (() => {\n",
              "      let quickchartButtonEl =\n",
              "        document.querySelector('#df-d33b4ae1-44ed-45fe-b4b4-80a119734c41 button');\n",
              "      quickchartButtonEl.style.display =\n",
              "        google.colab.kernel.accessAllowed ? 'block' : 'none';\n",
              "    })();\n",
              "  </script>\n",
              "</div>\n",
              "\n",
              "  <div id=\"id_3a18ed76-ce4a-443d-a4b5-d7cd147e3758\">\n",
              "    <style>\n",
              "      .colab-df-generate {\n",
              "        background-color: #E8F0FE;\n",
              "        border: none;\n",
              "        border-radius: 50%;\n",
              "        cursor: pointer;\n",
              "        display: none;\n",
              "        fill: #1967D2;\n",
              "        height: 32px;\n",
              "        padding: 0 0 0 0;\n",
              "        width: 32px;\n",
              "      }\n",
              "\n",
              "      .colab-df-generate:hover {\n",
              "        background-color: #E2EBFA;\n",
              "        box-shadow: 0px 1px 2px rgba(60, 64, 67, 0.3), 0px 1px 3px 1px rgba(60, 64, 67, 0.15);\n",
              "        fill: #174EA6;\n",
              "      }\n",
              "\n",
              "      [theme=dark] .colab-df-generate {\n",
              "        background-color: #3B4455;\n",
              "        fill: #D2E3FC;\n",
              "      }\n",
              "\n",
              "      [theme=dark] .colab-df-generate:hover {\n",
              "        background-color: #434B5C;\n",
              "        box-shadow: 0px 1px 3px 1px rgba(0, 0, 0, 0.15);\n",
              "        filter: drop-shadow(0px 1px 2px rgba(0, 0, 0, 0.3));\n",
              "        fill: #FFFFFF;\n",
              "      }\n",
              "    </style>\n",
              "    <button class=\"colab-df-generate\" onclick=\"generateWithVariable('glorot_normal_initializer_df')\"\n",
              "            title=\"Generate code using this dataframe.\"\n",
              "            style=\"display:none;\">\n",
              "\n",
              "  <svg xmlns=\"http://www.w3.org/2000/svg\" height=\"24px\"viewBox=\"0 0 24 24\"\n",
              "       width=\"24px\">\n",
              "    <path d=\"M7,19H8.4L18.45,9,17,7.55,7,17.6ZM5,21V16.75L18.45,3.32a2,2,0,0,1,2.83,0l1.4,1.43a1.91,1.91,0,0,1,.58,1.4,1.91,1.91,0,0,1-.58,1.4L9.25,21ZM18.45,9,17,7.55Zm-12,3A5.31,5.31,0,0,0,4.9,8.1,5.31,5.31,0,0,0,1,6.5,5.31,5.31,0,0,0,4.9,4.9,5.31,5.31,0,0,0,6.5,1,5.31,5.31,0,0,0,8.1,4.9,5.31,5.31,0,0,0,12,6.5,5.46,5.46,0,0,0,6.5,12Z\"/>\n",
              "  </svg>\n",
              "    </button>\n",
              "    <script>\n",
              "      (() => {\n",
              "      const buttonEl =\n",
              "        document.querySelector('#id_3a18ed76-ce4a-443d-a4b5-d7cd147e3758 button.colab-df-generate');\n",
              "      buttonEl.style.display =\n",
              "        google.colab.kernel.accessAllowed ? 'block' : 'none';\n",
              "\n",
              "      buttonEl.onclick = () => {\n",
              "        google.colab.notebook.generateWithVariable('glorot_normal_initializer_df');\n",
              "      }\n",
              "      })();\n",
              "    </script>\n",
              "  </div>\n",
              "\n",
              "    </div>\n",
              "  </div>\n"
            ],
            "application/vnd.google.colaboratory.intrinsic+json": {
              "type": "dataframe",
              "variable_name": "glorot_normal_initializer_df",
              "summary": "{\n  \"name\": \"glorot_normal_initializer_df\",\n  \"rows\": 10,\n  \"fields\": [\n    {\n      \"column\": \"accuracy\",\n      \"properties\": {\n        \"dtype\": \"number\",\n        \"std\": 0.01822480568024521,\n        \"min\": 0.9346476197242737,\n        \"max\": 0.9945904612541199,\n        \"num_unique_values\": 10,\n        \"samples\": [\n          0.9941904544830322,\n          0.9725333452224731,\n          0.9901333451271057\n        ],\n        \"semantic_type\": \"\",\n        \"description\": \"\"\n      }\n    },\n    {\n      \"column\": \"loss\",\n      \"properties\": {\n        \"dtype\": \"number\",\n        \"std\": 0.061109303544057726,\n        \"min\": 0.016913166269659996,\n        \"max\": 0.21686971187591553,\n        \"num_unique_values\": 10,\n        \"samples\": [\n          0.016986191272735596,\n          0.08809798955917358,\n          0.029629729688167572\n        ],\n        \"semantic_type\": \"\",\n        \"description\": \"\"\n      }\n    },\n    {\n      \"column\": \"val_accuracy\",\n      \"properties\": {\n        \"dtype\": \"number\",\n        \"std\": 0.004643628162826102,\n        \"min\": 0.9643999934196472,\n        \"max\": 0.9810666441917419,\n        \"num_unique_values\": 10,\n        \"samples\": [\n          0.9762666821479797,\n          0.972000002861023,\n          0.9735999703407288\n        ],\n        \"semantic_type\": \"\",\n        \"description\": \"\"\n      }\n    },\n    {\n      \"column\": \"val_loss\",\n      \"properties\": {\n        \"dtype\": \"number\",\n        \"std\": 0.008915090665369966,\n        \"min\": 0.08462390303611755,\n        \"max\": 0.11607881635427475,\n        \"num_unique_values\": 10,\n        \"samples\": [\n          0.1014162227511406,\n          0.09504673629999161,\n          0.09586665779352188\n        ],\n        \"semantic_type\": \"\",\n        \"description\": \"\"\n      }\n    }\n  ]\n}"
            }
          },
          "metadata": {},
          "execution_count": 21
        }
      ]
    },
    {
      "cell_type": "code",
      "source": [
        "he_normal_df"
      ],
      "metadata": {
        "colab": {
          "base_uri": "https://localhost:8080/",
          "height": 363
        },
        "id": "3w47VdP49QDO",
        "outputId": "a7a7a4a8-3a2b-4e36-e4b6-f2bdc90cb9f2"
      },
      "execution_count": 22,
      "outputs": [
        {
          "output_type": "execute_result",
          "data": {
            "text/plain": [
              "   accuracy      loss  val_accuracy  val_loss\n",
              "0  0.935752  0.215417      0.966133  0.110002\n",
              "1  0.971981  0.089319      0.974267  0.084926\n",
              "2  0.980171  0.061013      0.976533  0.077161\n",
              "3  0.985771  0.043057      0.978800  0.078016\n",
              "4  0.988762  0.033415      0.976267  0.089393\n",
              "5  0.990514  0.028593      0.980267  0.082883\n",
              "6  0.991638  0.023657      0.979200  0.086131\n",
              "7  0.992933  0.022025      0.977867  0.108551\n",
              "8  0.994514  0.016690      0.978133  0.099961\n",
              "9  0.994648  0.015570      0.977333  0.108781"
            ],
            "text/html": [
              "\n",
              "  <div id=\"df-ae666ae9-3095-4a38-94da-0b48d4c2b7f4\" class=\"colab-df-container\">\n",
              "    <div>\n",
              "<style scoped>\n",
              "    .dataframe tbody tr th:only-of-type {\n",
              "        vertical-align: middle;\n",
              "    }\n",
              "\n",
              "    .dataframe tbody tr th {\n",
              "        vertical-align: top;\n",
              "    }\n",
              "\n",
              "    .dataframe thead th {\n",
              "        text-align: right;\n",
              "    }\n",
              "</style>\n",
              "<table border=\"1\" class=\"dataframe\">\n",
              "  <thead>\n",
              "    <tr style=\"text-align: right;\">\n",
              "      <th></th>\n",
              "      <th>accuracy</th>\n",
              "      <th>loss</th>\n",
              "      <th>val_accuracy</th>\n",
              "      <th>val_loss</th>\n",
              "    </tr>\n",
              "  </thead>\n",
              "  <tbody>\n",
              "    <tr>\n",
              "      <th>0</th>\n",
              "      <td>0.935752</td>\n",
              "      <td>0.215417</td>\n",
              "      <td>0.966133</td>\n",
              "      <td>0.110002</td>\n",
              "    </tr>\n",
              "    <tr>\n",
              "      <th>1</th>\n",
              "      <td>0.971981</td>\n",
              "      <td>0.089319</td>\n",
              "      <td>0.974267</td>\n",
              "      <td>0.084926</td>\n",
              "    </tr>\n",
              "    <tr>\n",
              "      <th>2</th>\n",
              "      <td>0.980171</td>\n",
              "      <td>0.061013</td>\n",
              "      <td>0.976533</td>\n",
              "      <td>0.077161</td>\n",
              "    </tr>\n",
              "    <tr>\n",
              "      <th>3</th>\n",
              "      <td>0.985771</td>\n",
              "      <td>0.043057</td>\n",
              "      <td>0.978800</td>\n",
              "      <td>0.078016</td>\n",
              "    </tr>\n",
              "    <tr>\n",
              "      <th>4</th>\n",
              "      <td>0.988762</td>\n",
              "      <td>0.033415</td>\n",
              "      <td>0.976267</td>\n",
              "      <td>0.089393</td>\n",
              "    </tr>\n",
              "    <tr>\n",
              "      <th>5</th>\n",
              "      <td>0.990514</td>\n",
              "      <td>0.028593</td>\n",
              "      <td>0.980267</td>\n",
              "      <td>0.082883</td>\n",
              "    </tr>\n",
              "    <tr>\n",
              "      <th>6</th>\n",
              "      <td>0.991638</td>\n",
              "      <td>0.023657</td>\n",
              "      <td>0.979200</td>\n",
              "      <td>0.086131</td>\n",
              "    </tr>\n",
              "    <tr>\n",
              "      <th>7</th>\n",
              "      <td>0.992933</td>\n",
              "      <td>0.022025</td>\n",
              "      <td>0.977867</td>\n",
              "      <td>0.108551</td>\n",
              "    </tr>\n",
              "    <tr>\n",
              "      <th>8</th>\n",
              "      <td>0.994514</td>\n",
              "      <td>0.016690</td>\n",
              "      <td>0.978133</td>\n",
              "      <td>0.099961</td>\n",
              "    </tr>\n",
              "    <tr>\n",
              "      <th>9</th>\n",
              "      <td>0.994648</td>\n",
              "      <td>0.015570</td>\n",
              "      <td>0.977333</td>\n",
              "      <td>0.108781</td>\n",
              "    </tr>\n",
              "  </tbody>\n",
              "</table>\n",
              "</div>\n",
              "    <div class=\"colab-df-buttons\">\n",
              "\n",
              "  <div class=\"colab-df-container\">\n",
              "    <button class=\"colab-df-convert\" onclick=\"convertToInteractive('df-ae666ae9-3095-4a38-94da-0b48d4c2b7f4')\"\n",
              "            title=\"Convert this dataframe to an interactive table.\"\n",
              "            style=\"display:none;\">\n",
              "\n",
              "  <svg xmlns=\"http://www.w3.org/2000/svg\" height=\"24px\" viewBox=\"0 -960 960 960\">\n",
              "    <path d=\"M120-120v-720h720v720H120Zm60-500h600v-160H180v160Zm220 220h160v-160H400v160Zm0 220h160v-160H400v160ZM180-400h160v-160H180v160Zm440 0h160v-160H620v160ZM180-180h160v-160H180v160Zm440 0h160v-160H620v160Z\"/>\n",
              "  </svg>\n",
              "    </button>\n",
              "\n",
              "  <style>\n",
              "    .colab-df-container {\n",
              "      display:flex;\n",
              "      gap: 12px;\n",
              "    }\n",
              "\n",
              "    .colab-df-convert {\n",
              "      background-color: #E8F0FE;\n",
              "      border: none;\n",
              "      border-radius: 50%;\n",
              "      cursor: pointer;\n",
              "      display: none;\n",
              "      fill: #1967D2;\n",
              "      height: 32px;\n",
              "      padding: 0 0 0 0;\n",
              "      width: 32px;\n",
              "    }\n",
              "\n",
              "    .colab-df-convert:hover {\n",
              "      background-color: #E2EBFA;\n",
              "      box-shadow: 0px 1px 2px rgba(60, 64, 67, 0.3), 0px 1px 3px 1px rgba(60, 64, 67, 0.15);\n",
              "      fill: #174EA6;\n",
              "    }\n",
              "\n",
              "    .colab-df-buttons div {\n",
              "      margin-bottom: 4px;\n",
              "    }\n",
              "\n",
              "    [theme=dark] .colab-df-convert {\n",
              "      background-color: #3B4455;\n",
              "      fill: #D2E3FC;\n",
              "    }\n",
              "\n",
              "    [theme=dark] .colab-df-convert:hover {\n",
              "      background-color: #434B5C;\n",
              "      box-shadow: 0px 1px 3px 1px rgba(0, 0, 0, 0.15);\n",
              "      filter: drop-shadow(0px 1px 2px rgba(0, 0, 0, 0.3));\n",
              "      fill: #FFFFFF;\n",
              "    }\n",
              "  </style>\n",
              "\n",
              "    <script>\n",
              "      const buttonEl =\n",
              "        document.querySelector('#df-ae666ae9-3095-4a38-94da-0b48d4c2b7f4 button.colab-df-convert');\n",
              "      buttonEl.style.display =\n",
              "        google.colab.kernel.accessAllowed ? 'block' : 'none';\n",
              "\n",
              "      async function convertToInteractive(key) {\n",
              "        const element = document.querySelector('#df-ae666ae9-3095-4a38-94da-0b48d4c2b7f4');\n",
              "        const dataTable =\n",
              "          await google.colab.kernel.invokeFunction('convertToInteractive',\n",
              "                                                    [key], {});\n",
              "        if (!dataTable) return;\n",
              "\n",
              "        const docLinkHtml = 'Like what you see? Visit the ' +\n",
              "          '<a target=\"_blank\" href=https://colab.research.google.com/notebooks/data_table.ipynb>data table notebook</a>'\n",
              "          + ' to learn more about interactive tables.';\n",
              "        element.innerHTML = '';\n",
              "        dataTable['output_type'] = 'display_data';\n",
              "        await google.colab.output.renderOutput(dataTable, element);\n",
              "        const docLink = document.createElement('div');\n",
              "        docLink.innerHTML = docLinkHtml;\n",
              "        element.appendChild(docLink);\n",
              "      }\n",
              "    </script>\n",
              "  </div>\n",
              "\n",
              "\n",
              "<div id=\"df-b5449c87-bc07-4424-ad42-e76872dca386\">\n",
              "  <button class=\"colab-df-quickchart\" onclick=\"quickchart('df-b5449c87-bc07-4424-ad42-e76872dca386')\"\n",
              "            title=\"Suggest charts\"\n",
              "            style=\"display:none;\">\n",
              "\n",
              "<svg xmlns=\"http://www.w3.org/2000/svg\" height=\"24px\"viewBox=\"0 0 24 24\"\n",
              "     width=\"24px\">\n",
              "    <g>\n",
              "        <path d=\"M19 3H5c-1.1 0-2 .9-2 2v14c0 1.1.9 2 2 2h14c1.1 0 2-.9 2-2V5c0-1.1-.9-2-2-2zM9 17H7v-7h2v7zm4 0h-2V7h2v10zm4 0h-2v-4h2v4z\"/>\n",
              "    </g>\n",
              "</svg>\n",
              "  </button>\n",
              "\n",
              "<style>\n",
              "  .colab-df-quickchart {\n",
              "      --bg-color: #E8F0FE;\n",
              "      --fill-color: #1967D2;\n",
              "      --hover-bg-color: #E2EBFA;\n",
              "      --hover-fill-color: #174EA6;\n",
              "      --disabled-fill-color: #AAA;\n",
              "      --disabled-bg-color: #DDD;\n",
              "  }\n",
              "\n",
              "  [theme=dark] .colab-df-quickchart {\n",
              "      --bg-color: #3B4455;\n",
              "      --fill-color: #D2E3FC;\n",
              "      --hover-bg-color: #434B5C;\n",
              "      --hover-fill-color: #FFFFFF;\n",
              "      --disabled-bg-color: #3B4455;\n",
              "      --disabled-fill-color: #666;\n",
              "  }\n",
              "\n",
              "  .colab-df-quickchart {\n",
              "    background-color: var(--bg-color);\n",
              "    border: none;\n",
              "    border-radius: 50%;\n",
              "    cursor: pointer;\n",
              "    display: none;\n",
              "    fill: var(--fill-color);\n",
              "    height: 32px;\n",
              "    padding: 0;\n",
              "    width: 32px;\n",
              "  }\n",
              "\n",
              "  .colab-df-quickchart:hover {\n",
              "    background-color: var(--hover-bg-color);\n",
              "    box-shadow: 0 1px 2px rgba(60, 64, 67, 0.3), 0 1px 3px 1px rgba(60, 64, 67, 0.15);\n",
              "    fill: var(--button-hover-fill-color);\n",
              "  }\n",
              "\n",
              "  .colab-df-quickchart-complete:disabled,\n",
              "  .colab-df-quickchart-complete:disabled:hover {\n",
              "    background-color: var(--disabled-bg-color);\n",
              "    fill: var(--disabled-fill-color);\n",
              "    box-shadow: none;\n",
              "  }\n",
              "\n",
              "  .colab-df-spinner {\n",
              "    border: 2px solid var(--fill-color);\n",
              "    border-color: transparent;\n",
              "    border-bottom-color: var(--fill-color);\n",
              "    animation:\n",
              "      spin 1s steps(1) infinite;\n",
              "  }\n",
              "\n",
              "  @keyframes spin {\n",
              "    0% {\n",
              "      border-color: transparent;\n",
              "      border-bottom-color: var(--fill-color);\n",
              "      border-left-color: var(--fill-color);\n",
              "    }\n",
              "    20% {\n",
              "      border-color: transparent;\n",
              "      border-left-color: var(--fill-color);\n",
              "      border-top-color: var(--fill-color);\n",
              "    }\n",
              "    30% {\n",
              "      border-color: transparent;\n",
              "      border-left-color: var(--fill-color);\n",
              "      border-top-color: var(--fill-color);\n",
              "      border-right-color: var(--fill-color);\n",
              "    }\n",
              "    40% {\n",
              "      border-color: transparent;\n",
              "      border-right-color: var(--fill-color);\n",
              "      border-top-color: var(--fill-color);\n",
              "    }\n",
              "    60% {\n",
              "      border-color: transparent;\n",
              "      border-right-color: var(--fill-color);\n",
              "    }\n",
              "    80% {\n",
              "      border-color: transparent;\n",
              "      border-right-color: var(--fill-color);\n",
              "      border-bottom-color: var(--fill-color);\n",
              "    }\n",
              "    90% {\n",
              "      border-color: transparent;\n",
              "      border-bottom-color: var(--fill-color);\n",
              "    }\n",
              "  }\n",
              "</style>\n",
              "\n",
              "  <script>\n",
              "    async function quickchart(key) {\n",
              "      const quickchartButtonEl =\n",
              "        document.querySelector('#' + key + ' button');\n",
              "      quickchartButtonEl.disabled = true;  // To prevent multiple clicks.\n",
              "      quickchartButtonEl.classList.add('colab-df-spinner');\n",
              "      try {\n",
              "        const charts = await google.colab.kernel.invokeFunction(\n",
              "            'suggestCharts', [key], {});\n",
              "      } catch (error) {\n",
              "        console.error('Error during call to suggestCharts:', error);\n",
              "      }\n",
              "      quickchartButtonEl.classList.remove('colab-df-spinner');\n",
              "      quickchartButtonEl.classList.add('colab-df-quickchart-complete');\n",
              "    }\n",
              "    (() => {\n",
              "      let quickchartButtonEl =\n",
              "        document.querySelector('#df-b5449c87-bc07-4424-ad42-e76872dca386 button');\n",
              "      quickchartButtonEl.style.display =\n",
              "        google.colab.kernel.accessAllowed ? 'block' : 'none';\n",
              "    })();\n",
              "  </script>\n",
              "</div>\n",
              "\n",
              "  <div id=\"id_488521b6-016c-4739-9423-b73447aa1919\">\n",
              "    <style>\n",
              "      .colab-df-generate {\n",
              "        background-color: #E8F0FE;\n",
              "        border: none;\n",
              "        border-radius: 50%;\n",
              "        cursor: pointer;\n",
              "        display: none;\n",
              "        fill: #1967D2;\n",
              "        height: 32px;\n",
              "        padding: 0 0 0 0;\n",
              "        width: 32px;\n",
              "      }\n",
              "\n",
              "      .colab-df-generate:hover {\n",
              "        background-color: #E2EBFA;\n",
              "        box-shadow: 0px 1px 2px rgba(60, 64, 67, 0.3), 0px 1px 3px 1px rgba(60, 64, 67, 0.15);\n",
              "        fill: #174EA6;\n",
              "      }\n",
              "\n",
              "      [theme=dark] .colab-df-generate {\n",
              "        background-color: #3B4455;\n",
              "        fill: #D2E3FC;\n",
              "      }\n",
              "\n",
              "      [theme=dark] .colab-df-generate:hover {\n",
              "        background-color: #434B5C;\n",
              "        box-shadow: 0px 1px 3px 1px rgba(0, 0, 0, 0.15);\n",
              "        filter: drop-shadow(0px 1px 2px rgba(0, 0, 0, 0.3));\n",
              "        fill: #FFFFFF;\n",
              "      }\n",
              "    </style>\n",
              "    <button class=\"colab-df-generate\" onclick=\"generateWithVariable('he_normal_df')\"\n",
              "            title=\"Generate code using this dataframe.\"\n",
              "            style=\"display:none;\">\n",
              "\n",
              "  <svg xmlns=\"http://www.w3.org/2000/svg\" height=\"24px\"viewBox=\"0 0 24 24\"\n",
              "       width=\"24px\">\n",
              "    <path d=\"M7,19H8.4L18.45,9,17,7.55,7,17.6ZM5,21V16.75L18.45,3.32a2,2,0,0,1,2.83,0l1.4,1.43a1.91,1.91,0,0,1,.58,1.4,1.91,1.91,0,0,1-.58,1.4L9.25,21ZM18.45,9,17,7.55Zm-12,3A5.31,5.31,0,0,0,4.9,8.1,5.31,5.31,0,0,0,1,6.5,5.31,5.31,0,0,0,4.9,4.9,5.31,5.31,0,0,0,6.5,1,5.31,5.31,0,0,0,8.1,4.9,5.31,5.31,0,0,0,12,6.5,5.46,5.46,0,0,0,6.5,12Z\"/>\n",
              "  </svg>\n",
              "    </button>\n",
              "    <script>\n",
              "      (() => {\n",
              "      const buttonEl =\n",
              "        document.querySelector('#id_488521b6-016c-4739-9423-b73447aa1919 button.colab-df-generate');\n",
              "      buttonEl.style.display =\n",
              "        google.colab.kernel.accessAllowed ? 'block' : 'none';\n",
              "\n",
              "      buttonEl.onclick = () => {\n",
              "        google.colab.notebook.generateWithVariable('he_normal_df');\n",
              "      }\n",
              "      })();\n",
              "    </script>\n",
              "  </div>\n",
              "\n",
              "    </div>\n",
              "  </div>\n"
            ],
            "application/vnd.google.colaboratory.intrinsic+json": {
              "type": "dataframe",
              "variable_name": "he_normal_df",
              "summary": "{\n  \"name\": \"he_normal_df\",\n  \"rows\": 10,\n  \"fields\": [\n    {\n      \"column\": \"accuracy\",\n      \"properties\": {\n        \"dtype\": \"number\",\n        \"std\": 0.017949117986474358,\n        \"min\": 0.9357523918151855,\n        \"max\": 0.9946476221084595,\n        \"num_unique_values\": 10,\n        \"samples\": [\n          0.9945142865180969,\n          0.9719809293746948,\n          0.9905142784118652\n        ],\n        \"semantic_type\": \"\",\n        \"description\": \"\"\n      }\n    },\n    {\n      \"column\": \"loss\",\n      \"properties\": {\n        \"dtype\": \"number\",\n        \"std\": 0.0608691768438971,\n        \"min\": 0.015570149756968021,\n        \"max\": 0.21541728079319,\n        \"num_unique_values\": 10,\n        \"samples\": [\n          0.01668970100581646,\n          0.08931925892829895,\n          0.02859262004494667\n        ],\n        \"semantic_type\": \"\",\n        \"description\": \"\"\n      }\n    },\n    {\n      \"column\": \"val_accuracy\",\n      \"properties\": {\n        \"dtype\": \"number\",\n        \"std\": 0.004007001713250249,\n        \"min\": 0.9661333560943604,\n        \"max\": 0.9802666902542114,\n        \"num_unique_values\": 10,\n        \"samples\": [\n          0.9781333208084106,\n          0.9742666482925415,\n          0.9802666902542114\n        ],\n        \"semantic_type\": \"\",\n        \"description\": \"\"\n      }\n    },\n    {\n      \"column\": \"val_loss\",\n      \"properties\": {\n        \"dtype\": \"number\",\n        \"std\": 0.013037355209115042,\n        \"min\": 0.07716113328933716,\n        \"max\": 0.1100020781159401,\n        \"num_unique_values\": 10,\n        \"samples\": [\n          0.09996135532855988,\n          0.08492638915777206,\n          0.08288324624300003\n        ],\n        \"semantic_type\": \"\",\n        \"description\": \"\"\n      }\n    }\n  ]\n}"
            }
          },
          "metadata": {},
          "execution_count": 22
        }
      ]
    },
    {
      "cell_type": "code",
      "source": [],
      "metadata": {
        "id": "Hxcb7vcH-R2D"
      },
      "execution_count": null,
      "outputs": []
    },
    {
      "cell_type": "markdown",
      "source": [
        "### Plotting training accuracy for each initializer"
      ],
      "metadata": {
        "id": "nCMdfjFu-SVr"
      }
    },
    {
      "cell_type": "code",
      "source": [
        "#plt.plot(zero_initializer_df['accuracy'], label='Zero Initializer Training Accuracy')\n",
        "plt.plot(random_uniform_initializer_df['accuracy'], label='Random Uniform Initializer Training Accuracy')\n",
        "plt.plot(glorot_normal_initializer_df['accuracy'], label='Glorot Normal Initializer Training Accuracy')\n",
        "plt.plot(he_normal_df['accuracy'], label='He Normal Initializer Training Accuracy')\n",
        "plt.xlabel('Epochs')\n",
        "plt.ylabel('Training Accuracy')\n",
        "plt.legend(loc='lower right')\n",
        "plt.show()"
      ],
      "metadata": {
        "colab": {
          "base_uri": "https://localhost:8080/",
          "height": 449
        },
        "id": "8ncLEU1b-TJE",
        "outputId": "f7fcc5ab-8f31-4e73-c52c-0ca28ee3faac"
      },
      "execution_count": 23,
      "outputs": [
        {
          "output_type": "display_data",
          "data": {
            "text/plain": [
              "<Figure size 640x480 with 1 Axes>"
            ],
            "image/png": "[encoded data removed]"
          },
          "metadata": {}
        }
      ]
    },
    {
      "cell_type": "code",
      "source": [
        "plt.plot(zero_initializer_df['accuracy'], label='Zero Initializer Training Accuracy')\n",
        "plt.xlabel('Epochs')\n",
        "plt.ylabel('Accuracy')\n",
        "plt.legend(loc='lower right')\n",
        "plt.show()"
      ],
      "metadata": {
        "colab": {
          "base_uri": "https://localhost:8080/",
          "height": 449
        },
        "id": "3m-w4ppe-VgP",
        "outputId": "a9bc0849-3dfd-48cc-88db-758baac02cb2"
      },
      "execution_count": 24,
      "outputs": [
        {
          "output_type": "display_data",
          "data": {
            "text/plain": [
              "<Figure size 640x480 with 1 Axes>"
            ],
            "image/png": "[encoded data removed]"
          },
          "metadata": {}
        }
      ]
    },
    {
      "cell_type": "code",
      "source": [],
      "metadata": {
        "id": "s_qXe_gP-X1E"
      },
      "execution_count": null,
      "outputs": []
    },
    {
      "cell_type": "markdown",
      "source": [
        "### Plotting Validation accuracy for each initializer"
      ],
      "metadata": {
        "id": "6VE0nadq-Z9J"
      }
    },
    {
      "cell_type": "code",
      "source": [
        "#plt.plot(zero_initializer_df['val_accuracy'], label='Zero Initializer Validation Accuracy')\n",
        "plt.plot(random_uniform_initializer_df['val_accuracy'], label='Random Uniform Initializer Validation Accuracy')\n",
        "plt.plot(glorot_normal_initializer_df['val_accuracy'], label='Glorot Normal Initializer Validation Accuracy')\n",
        "plt.plot(he_normal_df['val_accuracy'], label='He Normal Initializer Validation Accuracy')\n",
        "plt.xlabel('Epochs')\n",
        "plt.ylabel('Validation Accuracy')\n",
        "plt.legend(loc='lower right')\n",
        "plt.show()"
      ],
      "metadata": {
        "colab": {
          "base_uri": "https://localhost:8080/",
          "height": 449
        },
        "id": "1d_QiEyg-axU",
        "outputId": "fd21626c-32c5-4f28-f5f6-c8cf075e02ee"
      },
      "execution_count": 25,
      "outputs": [
        {
          "output_type": "display_data",
          "data": {
            "text/plain": [
              "<Figure size 640x480 with 1 Axes>"
            ],
            "image/png": "[encoded data removed]"
          },
          "metadata": {}
        }
      ]
    },
    {
      "cell_type": "code",
      "source": [
        "plt.plot(zero_initializer_df['val_accuracy'], label='Zero Initializer Validation Accuracy')\n",
        "plt.xlabel('Epochs')\n",
        "plt.ylabel('Validation Accuracy')\n",
        "plt.legend(loc='lower right')\n",
        "plt.show()"
      ],
      "metadata": {
        "colab": {
          "base_uri": "https://localhost:8080/",
          "height": 449
        },
        "id": "rLwBJypI-cpE",
        "outputId": "ac1c1e1a-c30a-4462-8ad7-413c52f32989"
      },
      "execution_count": 26,
      "outputs": [
        {
          "output_type": "display_data",
          "data": {
            "text/plain": [
              "<Figure size 640x480 with 1 Axes>"
            ],
            "image/png": "[encoded data removed]"
          },
          "metadata": {}
        }
      ]
    },
    {
      "cell_type": "code",
      "source": [],
      "metadata": {
        "id": "ZMDihdkA-euE"
      },
      "execution_count": null,
      "outputs": []
    },
    {
      "cell_type": "markdown",
      "source": [
        "### Plotting Validation Loss for each initializer"
      ],
      "metadata": {
        "id": "4yGNZyvY-gl2"
      }
    },
    {
      "cell_type": "code",
      "source": [
        "#plt.plot(zero_initializer_df['val_loss'], label='Zero Initializer Validation Loss')\n",
        "plt.plot(random_uniform_initializer_df['val_loss'], label='Random Uniform Initializer Validation Loss')\n",
        "plt.plot(glorot_normal_initializer_df['val_loss'], label='Glorot Normal Initializer Validation Loss')\n",
        "plt.plot(he_normal_df['val_loss'], label='He Normal Initializer Validation Loss')\n",
        "plt.xlabel('Epochs')\n",
        "plt.ylabel('Validation Loss')\n",
        "plt.legend(loc='upper right')\n",
        "plt.show()"
      ],
      "metadata": {
        "colab": {
          "base_uri": "https://localhost:8080/",
          "height": 449
        },
        "id": "Sknon-_j-hJz",
        "outputId": "0b48cf44-9399-4d63-a9cd-b229b49ae680"
      },
      "execution_count": 27,
      "outputs": [
        {
          "output_type": "display_data",
          "data": {
            "text/plain": [
              "<Figure size 640x480 with 1 Axes>"
            ],
            "image/png": "[encoded data removed]"
          },
          "metadata": {}
        }
      ]
    },
    {
      "cell_type": "code",
      "source": [
        "plt.plot(zero_initializer_df['val_loss'], label='Zero Initializer Validation Loss')\n",
        "plt.xlabel('Epochs')\n",
        "plt.ylabel('Validation Loss')\n",
        "plt.legend(loc='upper right')\n",
        "plt.show()"
      ],
      "metadata": {
        "colab": {
          "base_uri": "https://localhost:8080/",
          "height": 449
        },
        "id": "73Ly8WFP-i0E",
        "outputId": "2cf0f5cb-0a64-4be7-b15b-ec7930ce8ccd"
      },
      "execution_count": 28,
      "outputs": [
        {
          "output_type": "display_data",
          "data": {
            "text/plain": [
              "<Figure size 640x480 with 1 Axes>"
            ],
            "image/png": "[encoded data removed]"
          },
          "metadata": {}
        }
      ]
    },
    {
      "cell_type": "code",
      "source": [],
      "metadata": {
        "id": "Z_ddzxg6-k8k"
      },
      "execution_count": null,
      "outputs": []
    },
    {
      "cell_type": "markdown",
      "source": [
        "### Plotting Training Loss for each initializer"
      ],
      "metadata": {
        "id": "3Wr0kFIe-mxB"
      }
    },
    {
      "cell_type": "code",
      "source": [
        "#plt.plot(zero_initializer_df['loss'], label='Zero Initializer Training Loss')\n",
        "plt.plot(random_uniform_initializer_df['loss'], label='Random Uniform Initializer Training Loss')\n",
        "plt.plot(glorot_normal_initializer_df['loss'], label='Glorot Normal Initializer Training Loss')\n",
        "plt.plot(he_normal_df['loss'], label='He Normal Initializer Training Loss')\n",
        "plt.xlabel('Epochs')\n",
        "plt.ylabel('Training Loss')\n",
        "plt.legend(loc='upper right')\n",
        "plt.show()"
      ],
      "metadata": {
        "colab": {
          "base_uri": "https://localhost:8080/",
          "height": 449
        },
        "id": "1pPwpJ6z-nbz",
        "outputId": "243f0082-f19b-4c05-f565-91fcd07af8a9"
      },
      "execution_count": 29,
      "outputs": [
        {
          "output_type": "display_data",
          "data": {
            "text/plain": [
              "<Figure size 640x480 with 1 Axes>"
            ],
            "image/png": "[encoded data removed]"
          },
          "metadata": {}
        }
      ]
    },
    {
      "cell_type": "code",
      "source": [
        "plt.plot(zero_initializer_df['loss'], label='Zero Initializer Training Loss')\n",
        "plt.xlabel('Epochs')\n",
        "plt.ylabel('Training Loss')\n",
        "plt.legend(loc='upper right')\n",
        "plt.show()"
      ],
      "metadata": {
        "colab": {
          "base_uri": "https://localhost:8080/",
          "height": 465
        },
        "id": "gfRyPzRE-o8c",
        "outputId": "b6d0bbcf-d8d6-4c3c-bf1c-ce7cb9060528"
      },
      "execution_count": 30,
      "outputs": [
        {
          "output_type": "display_data",
          "data": {
            "text/plain": [
              "<Figure size 640x480 with 1 Axes>"
            ],
            "image/png": "[encoded data removed]"
          },
          "metadata": {}
        }
      ]
    },
    {
      "cell_type": "code",
      "source": [],
      "metadata": {
        "id": "WndKPWm3-q7z"
      },
      "execution_count": null,
      "outputs": []
    },
    {
      "cell_type": "markdown",
      "source": [
        "### Q2. Discuss the considerations and tradeoffs when choosing the appropriate weight initialization technique for a given neural network architecture and task."
      ],
      "metadata": {
        "id": "wDt-QiMp-s0C"
      }
    },
    {
      "cell_type": "code",
      "source": [],
      "metadata": {
        "id": "RwSoKqAZ-tiL"
      },
      "execution_count": null,
      "outputs": []
    },
    {
      "cell_type": "markdown",
      "source": [
        "Some considerations to keep in mind when selecting a weight initialization techniques are:\n",
        "\n",
        "**1. Activation Function**:\n",
        "   - **ReLU and Its Variants**: When using activation functions like ReLU, Leaky ReLU, or Parametric ReLU (PReLU), initialization methods like He initialization are often preferred. These activations tend to benefit from larger initial weights to prevent vanishing gradients.\n",
        "\n",
        "   - **Sigmoid and Tanh**: For activation functions like sigmoid and hyperbolic tangent (tanh), Xavier/Glorot initialization is a suitable choice. These activations have a smaller range, so it's essential to initialize weights in a way that keeps activations within this range.\n",
        "\n",
        "**2. Network Depth**:\n",
        "   - For deep neural networks with many layers, it's crucial to use weight initialization techniques that can mitigate the vanishing or exploding gradient problem. He initialization and variants of Xavier initialization are designed with deep networks in mind.\n",
        "\n",
        "**3. Problem Complexity**:\n",
        "   - Consider the complexity of the problem you're solving. Complex tasks may benefit from more advanced weight initialization techniques to help the model learn intricate patterns in the data.\n",
        "\n",
        "**4. Architectural Considerations**:\n",
        "   - If your neural network architecture includes skip connections, residual blocks, or other complex structures, you may need to experiment with different weight initialization methods to find the most suitable one for your specific architecture.\n",
        "\n",
        "**5. Learning Rate**:\n",
        "   - The learning rate used during training can interact with weight initialization. Smaller learning rates may be more forgiving with improper initialization, but larger learning rates may require more careful initialization to prevent divergence.\n",
        "\n",
        "**6. Data Preprocessing**:\n",
        "   - The preprocessing of input data can affect the choice of weight initialization. If you're normalizing or standardizing input data, consider how it impacts the activations and whether the chosen initialization method complements the preprocessing.\n",
        "\n",
        "**7. Experimental Evaluation**:\n",
        "   - It's often a good practice to experiment with multiple weight initialization techniques during model development. Train the model with different initializations and evaluate their performance on validation data to identify which method works best for your specific problem.\n",
        "\n",
        "**8. Regularization Techniques**:\n",
        "   - If you plan to use regularization techniques like dropout or weight decay, they can interact with weight initialization. Be mindful of how these regularization techniques impact the training dynamics and the choice of initialization.\n",
        "\n",
        "**9. Computational Resources**:\n",
        "   - Some weight initialization methods may require more computational resources than others. If you have constraints on training time or resources, consider the computational cost of initialization techniques.\n",
        "\n",
        "**10. Transfer Learning**:\n",
        "   - If you're performing transfer learning with a pretrained model, you may inherit the weight initialization from the pretrained model's last layer. In such cases, consider compatibility with the pretrained model's initialization."
      ],
      "metadata": {
        "id": "OEBz2KdN-xEx"
      }
    },
    {
      "cell_type": "code",
      "source": [],
      "metadata": {
        "id": "rRTdGQCR-xrT"
      },
      "execution_count": null,
      "outputs": []
    }
  ]
}